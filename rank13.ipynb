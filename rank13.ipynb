{
 "cells": [
  {
   "cell_type": "code",
   "execution_count": 1,
   "metadata": {},
   "outputs": [
    {
     "name": "stderr",
     "output_type": "stream",
     "text": [
      "Using TensorFlow backend.\n"
     ]
    }
   ],
   "source": [
    "# Load Libraries\n",
    "import pandas as pd\n",
    "import numpy as np\n",
    "from sklearn.model_selection import train_test_split\n",
    "from sklearn.preprocessing import LabelEncoder\n",
    "\n",
    "from keras.preprocessing.text import Tokenizer\n",
    "from keras.preprocessing.sequence import pad_sequences\n",
    "from keras.models import Model\n",
    "from keras.layers import Dense,Embedding,LSTM,Dropout,Bidirectional,Input,BatchNormalization\n",
    "from keras.optimizers import Adam\n",
    "from keras.callbacks import EarlyStopping,ModelCheckpoint"
   ]
  },
  {
   "cell_type": "code",
   "execution_count": 2,
   "metadata": {},
   "outputs": [
    {
     "data": {
      "text/html": [
       "<div>\n",
       "<style scoped>\n",
       "    .dataframe tbody tr th:only-of-type {\n",
       "        vertical-align: middle;\n",
       "    }\n",
       "\n",
       "    .dataframe tbody tr th {\n",
       "        vertical-align: top;\n",
       "    }\n",
       "\n",
       "    .dataframe thead th {\n",
       "        text-align: right;\n",
       "    }\n",
       "</style>\n",
       "<table border=\"1\" class=\"dataframe\">\n",
       "  <thead>\n",
       "    <tr style=\"text-align: right;\">\n",
       "      <th></th>\n",
       "      <th>user_sequence</th>\n",
       "      <th>user_id</th>\n",
       "      <th>challenge_sequence</th>\n",
       "      <th>challenge</th>\n",
       "    </tr>\n",
       "  </thead>\n",
       "  <tbody>\n",
       "    <tr>\n",
       "      <th>0</th>\n",
       "      <td>4576_1</td>\n",
       "      <td>4576</td>\n",
       "      <td>1</td>\n",
       "      <td>CI23714</td>\n",
       "    </tr>\n",
       "    <tr>\n",
       "      <th>1</th>\n",
       "      <td>4576_2</td>\n",
       "      <td>4576</td>\n",
       "      <td>2</td>\n",
       "      <td>CI23855</td>\n",
       "    </tr>\n",
       "    <tr>\n",
       "      <th>2</th>\n",
       "      <td>4576_3</td>\n",
       "      <td>4576</td>\n",
       "      <td>3</td>\n",
       "      <td>CI24917</td>\n",
       "    </tr>\n",
       "    <tr>\n",
       "      <th>3</th>\n",
       "      <td>4576_4</td>\n",
       "      <td>4576</td>\n",
       "      <td>4</td>\n",
       "      <td>CI23663</td>\n",
       "    </tr>\n",
       "    <tr>\n",
       "      <th>4</th>\n",
       "      <td>4576_5</td>\n",
       "      <td>4576</td>\n",
       "      <td>5</td>\n",
       "      <td>CI23933</td>\n",
       "    </tr>\n",
       "  </tbody>\n",
       "</table>\n",
       "</div>"
      ],
      "text/plain": [
       "  user_sequence  user_id  challenge_sequence challenge\n",
       "0        4576_1     4576                   1   CI23714\n",
       "1        4576_2     4576                   2   CI23855\n",
       "2        4576_3     4576                   3   CI24917\n",
       "3        4576_4     4576                   4   CI23663\n",
       "4        4576_5     4576                   5   CI23933"
      ]
     },
     "execution_count": 2,
     "metadata": {},
     "output_type": "execute_result"
    }
   ],
   "source": [
    "train = pd.read_csv(\"train.csv\")\n",
    "test = pd.read_csv(\"test.csv\")\n",
    "challenges = pd.read_csv('challenge_data.csv')\n",
    "train.head()"
   ]
  },
  {
   "cell_type": "code",
   "execution_count": 3,
   "metadata": {},
   "outputs": [
    {
     "data": {
      "text/html": [
       "<div>\n",
       "<style scoped>\n",
       "    .dataframe tbody tr th:only-of-type {\n",
       "        vertical-align: middle;\n",
       "    }\n",
       "\n",
       "    .dataframe tbody tr th {\n",
       "        vertical-align: top;\n",
       "    }\n",
       "\n",
       "    .dataframe thead th {\n",
       "        text-align: right;\n",
       "    }\n",
       "</style>\n",
       "<table border=\"1\" class=\"dataframe\">\n",
       "  <thead>\n",
       "    <tr style=\"text-align: right;\">\n",
       "      <th></th>\n",
       "      <th>user_id</th>\n",
       "      <th>target</th>\n",
       "    </tr>\n",
       "  </thead>\n",
       "  <tbody>\n",
       "    <tr>\n",
       "      <th>10</th>\n",
       "      <td>4576</td>\n",
       "      <td>CI24958</td>\n",
       "    </tr>\n",
       "    <tr>\n",
       "      <th>11</th>\n",
       "      <td>4576</td>\n",
       "      <td>CI23667</td>\n",
       "    </tr>\n",
       "    <tr>\n",
       "      <th>12</th>\n",
       "      <td>4576</td>\n",
       "      <td>CI23691</td>\n",
       "    </tr>\n",
       "    <tr>\n",
       "      <th>23</th>\n",
       "      <td>4580</td>\n",
       "      <td>CI24915</td>\n",
       "    </tr>\n",
       "    <tr>\n",
       "      <th>24</th>\n",
       "      <td>4580</td>\n",
       "      <td>CI25727</td>\n",
       "    </tr>\n",
       "  </tbody>\n",
       "</table>\n",
       "</div>"
      ],
      "text/plain": [
       "    user_id   target\n",
       "10     4576  CI24958\n",
       "11     4576  CI23667\n",
       "12     4576  CI23691\n",
       "23     4580  CI24915\n",
       "24     4580  CI25727"
      ]
     },
     "execution_count": 3,
     "metadata": {},
     "output_type": "execute_result"
    }
   ],
   "source": [
    "target = train[train.challenge_sequence > 10][['user_id','challenge']]\n",
    "target.rename(columns={'challenge':'target'},inplace=True)\n",
    "target.head()"
   ]
  },
  {
   "cell_type": "code",
   "execution_count": 4,
   "metadata": {},
   "outputs": [
    {
     "data": {
      "text/html": [
       "<div>\n",
       "<style scoped>\n",
       "    .dataframe tbody tr th:only-of-type {\n",
       "        vertical-align: middle;\n",
       "    }\n",
       "\n",
       "    .dataframe tbody tr th {\n",
       "        vertical-align: top;\n",
       "    }\n",
       "\n",
       "    .dataframe thead th {\n",
       "        text-align: right;\n",
       "    }\n",
       "</style>\n",
       "<table border=\"1\" class=\"dataframe\">\n",
       "  <thead>\n",
       "    <tr style=\"text-align: right;\">\n",
       "      <th></th>\n",
       "      <th>user_id</th>\n",
       "      <th>challenge</th>\n",
       "    </tr>\n",
       "  </thead>\n",
       "  <tbody>\n",
       "    <tr>\n",
       "      <th>0</th>\n",
       "      <td>4576</td>\n",
       "      <td>CI23714 CI23855 CI24917 CI23663 CI23933 CI2513...</td>\n",
       "    </tr>\n",
       "    <tr>\n",
       "      <th>1</th>\n",
       "      <td>4580</td>\n",
       "      <td>CI23663 CI23855 CI23933 CI23975 CI24530 CI2371...</td>\n",
       "    </tr>\n",
       "    <tr>\n",
       "      <th>2</th>\n",
       "      <td>4581</td>\n",
       "      <td>CI26155 CI26156 CI26157 CI26158 CI26159 CI2616...</td>\n",
       "    </tr>\n",
       "    <tr>\n",
       "      <th>3</th>\n",
       "      <td>4582</td>\n",
       "      <td>CI23855 CI24915 CI24917 CI23933 CI23663 CI2495...</td>\n",
       "    </tr>\n",
       "    <tr>\n",
       "      <th>4</th>\n",
       "      <td>4585</td>\n",
       "      <td>CI23855 CI23975 CI24917 CI25135 CI23848 CI2371...</td>\n",
       "    </tr>\n",
       "  </tbody>\n",
       "</table>\n",
       "</div>"
      ],
      "text/plain": [
       "   user_id                                          challenge\n",
       "0     4576  CI23714 CI23855 CI24917 CI23663 CI23933 CI2513...\n",
       "1     4580  CI23663 CI23855 CI23933 CI23975 CI24530 CI2371...\n",
       "2     4581  CI26155 CI26156 CI26157 CI26158 CI26159 CI2616...\n",
       "3     4582  CI23855 CI24915 CI24917 CI23933 CI23663 CI2495...\n",
       "4     4585  CI23855 CI23975 CI24917 CI25135 CI23848 CI2371..."
      ]
     },
     "execution_count": 4,
     "metadata": {},
     "output_type": "execute_result"
    }
   ],
   "source": [
    "data = train[train.challenge_sequence <= 10].groupby('user_id').challenge.aggregate(lambda x: ' '.join(x)).reset_index()\n",
    "data.head()"
   ]
  },
  {
   "cell_type": "code",
   "execution_count": 5,
   "metadata": {},
   "outputs": [
    {
     "data": {
      "text/html": [
       "<div>\n",
       "<style scoped>\n",
       "    .dataframe tbody tr th:only-of-type {\n",
       "        vertical-align: middle;\n",
       "    }\n",
       "\n",
       "    .dataframe tbody tr th {\n",
       "        vertical-align: top;\n",
       "    }\n",
       "\n",
       "    .dataframe thead th {\n",
       "        text-align: right;\n",
       "    }\n",
       "</style>\n",
       "<table border=\"1\" class=\"dataframe\">\n",
       "  <thead>\n",
       "    <tr style=\"text-align: right;\">\n",
       "      <th></th>\n",
       "      <th>user_id</th>\n",
       "      <th>challenge</th>\n",
       "      <th>target</th>\n",
       "    </tr>\n",
       "  </thead>\n",
       "  <tbody>\n",
       "    <tr>\n",
       "      <th>0</th>\n",
       "      <td>4576</td>\n",
       "      <td>CI23714 CI23855 CI24917 CI23663 CI23933 CI2513...</td>\n",
       "      <td>CI24958</td>\n",
       "    </tr>\n",
       "    <tr>\n",
       "      <th>1</th>\n",
       "      <td>4576</td>\n",
       "      <td>CI23714 CI23855 CI24917 CI23663 CI23933 CI2513...</td>\n",
       "      <td>CI23667</td>\n",
       "    </tr>\n",
       "    <tr>\n",
       "      <th>2</th>\n",
       "      <td>4576</td>\n",
       "      <td>CI23714 CI23855 CI24917 CI23663 CI23933 CI2513...</td>\n",
       "      <td>CI23691</td>\n",
       "    </tr>\n",
       "    <tr>\n",
       "      <th>3</th>\n",
       "      <td>4580</td>\n",
       "      <td>CI23663 CI23855 CI23933 CI23975 CI24530 CI2371...</td>\n",
       "      <td>CI24915</td>\n",
       "    </tr>\n",
       "    <tr>\n",
       "      <th>4</th>\n",
       "      <td>4580</td>\n",
       "      <td>CI23663 CI23855 CI23933 CI23975 CI24530 CI2371...</td>\n",
       "      <td>CI25727</td>\n",
       "    </tr>\n",
       "  </tbody>\n",
       "</table>\n",
       "</div>"
      ],
      "text/plain": [
       "   user_id                                          challenge   target\n",
       "0     4576  CI23714 CI23855 CI24917 CI23663 CI23933 CI2513...  CI24958\n",
       "1     4576  CI23714 CI23855 CI24917 CI23663 CI23933 CI2513...  CI23667\n",
       "2     4576  CI23714 CI23855 CI24917 CI23663 CI23933 CI2513...  CI23691\n",
       "3     4580  CI23663 CI23855 CI23933 CI23975 CI24530 CI2371...  CI24915\n",
       "4     4580  CI23663 CI23855 CI23933 CI23975 CI24530 CI2371...  CI25727"
      ]
     },
     "execution_count": 5,
     "metadata": {},
     "output_type": "execute_result"
    }
   ],
   "source": [
    "data = data.merge(target)\n",
    "data.head()"
   ]
  },
  {
   "cell_type": "code",
   "execution_count": 6,
   "metadata": {},
   "outputs": [],
   "source": [
    "# Encode challenges\n",
    "encoder = LabelEncoder()\n",
    "encoder.fit(challenges['challenge_ID'])\n",
    "data['challange_encoded'] = encoder.transform(data.target)"
   ]
  },
  {
   "cell_type": "code",
   "execution_count": 7,
   "metadata": {},
   "outputs": [],
   "source": [
    "tokenizer = Tokenizer()\n",
    "tokenizer.fit_on_texts(data['challenge'])"
   ]
  },
  {
   "cell_type": "code",
   "execution_count": 8,
   "metadata": {},
   "outputs": [],
   "source": [
    "NB_WORDS = len(tokenizer.word_index)\n",
    "MAX_SEQUENCE_LENGTH = 10\n",
    "N_CATEGORIES = challenges.shape[0]\n",
    "    \n",
    "# Create sequences\n",
    "sequences_train = tokenizer.texts_to_sequences(data['challenge'])"
   ]
  },
  {
   "cell_type": "code",
   "execution_count": 9,
   "metadata": {},
   "outputs": [],
   "source": [
    "x_train = pad_sequences(sequences_train, maxlen=MAX_SEQUENCE_LENGTH, padding='post', truncating='post')"
   ]
  },
  {
   "cell_type": "code",
   "execution_count": 10,
   "metadata": {},
   "outputs": [],
   "source": [
    "y_train = data['challange_encoded'].values"
   ]
  },
  {
   "cell_type": "code",
   "execution_count": 11,
   "metadata": {},
   "outputs": [],
   "source": [
    "def get_model(path='',lr=0.001):\n",
    "        adam = Adam(lr=lr)\n",
    "        inp = Input(shape=(MAX_SEQUENCE_LENGTH, ))\n",
    "        x = Embedding(NB_WORDS+1,256)(inp)\n",
    "        x = BatchNormalization()(x)\n",
    "        x = Bidirectional(LSTM(256, dropout=0.1, recurrent_dropout=0.1))(x)\n",
    "        x = Dropout(0.4)(x)\n",
    "        x = Dense(N_CATEGORIES, activation=\"softmax\")(x)\n",
    "        model = Model(inputs=inp, outputs=x)\n",
    "        if path != '':\n",
    "            model.load_weights(path)\n",
    "        model.compile(loss='sparse_categorical_crossentropy', optimizer=adam, metrics=['accuracy'])\n",
    "        return model\n",
    "    \n",
    "# Initialize the model\n",
    "model = get_model()"
   ]
  },
  {
   "cell_type": "code",
   "execution_count": 12,
   "metadata": {},
   "outputs": [
    {
     "name": "stderr",
     "output_type": "stream",
     "text": [
      "/home/mileta/.local/lib/python3.5/site-packages/tensorflow_core/python/framework/indexed_slices.py:424: UserWarning: Converting sparse IndexedSlices to a dense Tensor of unknown shape. This may consume a large amount of memory.\n",
      "  \"Converting sparse IndexedSlices to a dense Tensor of unknown shape. \"\n"
     ]
    },
    {
     "name": "stdout",
     "output_type": "stream",
     "text": [
      "Epoch 1/12\n",
      "208596/208596 [==============================] - 159s 762us/step - loss: 6.1918 - accuracy: 0.0317\n",
      "Epoch 2/12\n",
      "208596/208596 [==============================] - 152s 727us/step - loss: 4.9316 - accuracy: 0.0596\n",
      "Epoch 3/12\n",
      "208596/208596 [==============================] - 152s 730us/step - loss: 4.5612 - accuracy: 0.0803\n",
      "Epoch 4/12\n",
      "208596/208596 [==============================] - 152s 727us/step - loss: 4.2960 - accuracy: 0.0981\n",
      "Epoch 5/12\n",
      "208596/208596 [==============================] - 152s 728us/step - loss: 4.0864 - accuracy: 0.1129\n",
      "Epoch 6/12\n",
      "208596/208596 [==============================] - 151s 726us/step - loss: 3.9135 - accuracy: 0.1264\n",
      "Epoch 7/12\n",
      "208596/208596 [==============================] - 153s 732us/step - loss: 3.7712 - accuracy: 0.1360\n",
      "Epoch 8/12\n",
      "208596/208596 [==============================] - 152s 727us/step - loss: 3.6534 - accuracy: 0.1459\n",
      "Epoch 9/12\n",
      "208596/208596 [==============================] - 155s 745us/step - loss: 3.5515 - accuracy: 0.1529\n",
      "Epoch 10/12\n",
      "208596/208596 [==============================] - 152s 730us/step - loss: 3.4717 - accuracy: 0.1597\n",
      "Epoch 11/12\n",
      "208596/208596 [==============================] - 152s 730us/step - loss: 3.3970 - accuracy: 0.1662\n",
      "Epoch 12/12\n",
      "208596/208596 [==============================] - 156s 749us/step - loss: 3.3334 - accuracy: 0.1713\n"
     ]
    },
    {
     "data": {
      "text/plain": [
       "<keras.callbacks.callbacks.History at 0x7fcc56d56fd0>"
      ]
     },
     "execution_count": 12,
     "metadata": {},
     "output_type": "execute_result"
    }
   ],
   "source": [
    "model.fit(x_train,\n",
    "          y_train,\n",
    "          epochs=12,\n",
    "          batch_size=2048\n",
    "         )"
   ]
  },
  {
   "cell_type": "code",
   "execution_count": 13,
   "metadata": {},
   "outputs": [],
   "source": [
    "def padding(text):\n",
    "        return pad_sequences(tokenizer.texts_to_sequences(text), maxlen=MAX_SEQUENCE_LENGTH, padding='post', truncating='post')\n",
    "    \n",
    "test_text = test[test.challenge_sequence <= 10].groupby('user_id').challenge.aggregate(lambda x: ' '.join(x)).reset_index()\n",
    "x_test = padding(test_text.challenge)"
   ]
  },
  {
   "cell_type": "code",
   "execution_count": 14,
   "metadata": {},
   "outputs": [],
   "source": [
    "pred = model.predict(x_test,batch_size=2048)\n",
    "pred = pred.argsort(axis=1)[:,-3:][:,::-1]"
   ]
  },
  {
   "cell_type": "code",
   "execution_count": 15,
   "metadata": {},
   "outputs": [],
   "source": [
    "pred_list = []\n",
    "for i in range(3):\n",
    "    test1 = test_text[['user_id']]\n",
    "    test1['user_sequence'] = test1.user_id.astype(str) + '_'+str(i+11)\n",
    "    test1['challenge'] = encoder.inverse_transform(pred[:,i])\n",
    "    pred_list.append(test1[['user_sequence','challenge']])\n",
    "    \n",
    "pd.concat(pred_list).to_csv('sub16.csv',index=False)"
   ]
  },
  {
   "cell_type": "code",
   "execution_count": null,
   "metadata": {},
   "outputs": [],
   "source": []
  },
  {
   "cell_type": "code",
   "execution_count": null,
   "metadata": {},
   "outputs": [],
   "source": []
  },
  {
   "cell_type": "code",
   "execution_count": null,
   "metadata": {},
   "outputs": [],
   "source": []
  },
  {
   "cell_type": "code",
   "execution_count": null,
   "metadata": {},
   "outputs": [],
   "source": []
  }
 ],
 "metadata": {
  "kernelspec": {
   "display_name": "Python 3",
   "language": "python",
   "name": "python3"
  },
  "language_info": {
   "codemirror_mode": {
    "name": "ipython",
    "version": 3
   },
   "file_extension": ".py",
   "mimetype": "text/x-python",
   "name": "python",
   "nbconvert_exporter": "python",
   "pygments_lexer": "ipython3",
   "version": "3.8.2"
  }
 },
 "nbformat": 4,
 "nbformat_minor": 4
}
