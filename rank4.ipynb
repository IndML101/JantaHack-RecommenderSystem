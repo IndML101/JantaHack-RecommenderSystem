{
 "cells": [
  {
   "cell_type": "code",
   "execution_count": 152,
   "metadata": {
    "colab": {},
    "colab_type": "code",
    "id": "i1uCqj-DhBB5"
   },
   "outputs": [],
   "source": [
    "import pandas as pd\n",
    "from tqdm.notebook import tqdm\n",
    "import numpy as np\n",
    "from keras.callbacks import EarlyStopping,ModelCheckpoint"
   ]
  },
  {
   "cell_type": "code",
   "execution_count": 153,
   "metadata": {
    "colab": {
     "base_uri": "https://localhost:8080/",
     "height": 34
    },
    "colab_type": "code",
    "id": "3GHHSFJxiBI3",
    "outputId": "2f9c8ec6-3a92-4b82-a6dd-eaacf8ff05ca"
   },
   "outputs": [
    {
     "name": "stdout",
     "output_type": "stream",
     "text": [
      "Found GPU at: /device:GPU:0\n"
     ]
    }
   ],
   "source": [
    "%tensorflow_version 2.x\n",
    "import tensorflow as tf\n",
    "device_name = tf.test.gpu_device_name()\n",
    "if device_name != '/device:GPU:0':\n",
    "  raise SystemError('GPU device not found')\n",
    "print('Found GPU at: {}'.format(device_name))"
   ]
  },
  {
   "cell_type": "code",
   "execution_count": 154,
   "metadata": {
    "colab": {},
    "colab_type": "code",
    "id": "L2210xjQhCoi"
   },
   "outputs": [],
   "source": [
    "# Code to read csv file into colaboratory:\n",
    "!pip install -U -q PyDrive\n",
    "from pydrive.auth import GoogleAuth\n",
    "from pydrive.drive import GoogleDrive\n",
    "from google.colab import auth\n",
    "from oauth2client.client import GoogleCredentials"
   ]
  },
  {
   "cell_type": "code",
   "execution_count": 156,
   "metadata": {
    "colab": {},
    "colab_type": "code",
    "id": "wJUferjyhGm7"
   },
   "outputs": [],
   "source": [
    "auth.authenticate_user()\n",
    "gauth = GoogleAuth()\n",
    "gauth.credentials = GoogleCredentials.get_application_default()\n",
    "drive = GoogleDrive(gauth)"
   ]
  },
  {
   "cell_type": "code",
   "execution_count": 157,
   "metadata": {
    "colab": {},
    "colab_type": "code",
    "id": "I2oXIDMJhsdH"
   },
   "outputs": [],
   "source": [
    "downloaded = drive.CreateFile({'id':'1RVKXO2IV-LoJIw8iBgAtZkhwkYuEKgW7'}) # replace the id with id of file you want to access\n",
    "downloaded.GetContentFile('challenge_data.csv') "
   ]
  },
  {
   "cell_type": "code",
   "execution_count": 158,
   "metadata": {
    "colab": {},
    "colab_type": "code",
    "id": "me27Vu5LhvEf"
   },
   "outputs": [],
   "source": [
    "downloaded = drive.CreateFile({'id':'1ybDiG60_B18Zz9tRgcektPp6U-LR6DnR'}) # replace the id with id of file you want to access\n",
    "downloaded.GetContentFile('test.csv') \n"
   ]
  },
  {
   "cell_type": "code",
   "execution_count": 159,
   "metadata": {
    "colab": {},
    "colab_type": "code",
    "id": "susftW2dh4ZO"
   },
   "outputs": [],
   "source": [
    "downloaded = drive.CreateFile({'id':'1JDXjuJNDDhrRA7IhitdxWXo5YPE7n8mI'}) # replace the id with id of file you want to access\n",
    "downloaded.GetContentFile('train.csv') \n"
   ]
  },
  {
   "cell_type": "code",
   "execution_count": null,
   "metadata": {
    "colab": {},
    "colab_type": "code",
    "id": "UvXh4Gbqh6Lj"
   },
   "outputs": [],
   "source": []
  },
  {
   "cell_type": "code",
   "execution_count": 160,
   "metadata": {
    "colab": {},
    "colab_type": "code",
    "id": "PJW_mm5UhBB9"
   },
   "outputs": [],
   "source": [
    "from keras import models\n",
    "from keras import layers\n",
    "from keras import optimizers\n",
    "import tensorflow as tf"
   ]
  },
  {
   "cell_type": "code",
   "execution_count": 161,
   "metadata": {
    "colab": {},
    "colab_type": "code",
    "id": "WmIzZlVOhBB_"
   },
   "outputs": [],
   "source": [
    "def apk(actual, predicted, k=3):\n",
    "    \"\"\"\n",
    "    Computes the average precision at k.\n",
    "    This function computes the average prescision at k between two lists of\n",
    "    items.\n",
    "    Parameters\n",
    "    ----------\n",
    "    actual : list\n",
    "             A list of elements that are to be predicted (order doesn't matter)\n",
    "    predicted : list\n",
    "                A list of predicted elements (order does matter)\n",
    "    k : int, optional\n",
    "        The maximum number of predicted elements\n",
    "    Returns\n",
    "    -------\n",
    "    score : double\n",
    "            The average precision at k over the input lists\n",
    "    \"\"\"\n",
    "    \n",
    "    actual = list(actual)\n",
    "    predicted = list(predicted)\n",
    "    \n",
    "    if len(predicted)>k:\n",
    "        predicted = predicted[:k]\n",
    "\n",
    "    score = 0.0\n",
    "    num_hits = 0.0\n",
    "\n",
    "    for i,p in enumerate(predicted):\n",
    "        if p in actual and p not in predicted[:i]:\n",
    "            num_hits += 1.0\n",
    "            score += num_hits / (i+1.0)\n",
    "            \n",
    "    if not actual:\n",
    "        return 0.0\n",
    "\n",
    "    return score / min(len(actual), k)\n",
    "\n",
    "def mapk(actual, predicted, k=3):\n",
    "    \"\"\"\n",
    "    Computes the mean average precision at k.\n",
    "    This function computes the mean average prescision at k between two lists\n",
    "    of lists of items.\n",
    "    Parameters\n",
    "    ----------\n",
    "    actual : list\n",
    "             A list of lists of elements that are to be predicted \n",
    "             (order doesn't matter in the lists)\n",
    "    predicted : list\n",
    "                A list of lists of predicted elements\n",
    "                (order matters in the lists)\n",
    "    k : int, optional\n",
    "        The maximum number of predicted elements\n",
    "    Returns\n",
    "    -------\n",
    "    score : double\n",
    "            The mean average precision at k over the input lists\n",
    "    \"\"\"\n",
    "    return np.mean([apk(a,p,k) for a,p in zip(actual, predicted)])"
   ]
  },
  {
   "cell_type": "code",
   "execution_count": 162,
   "metadata": {
    "colab": {},
    "colab_type": "code",
    "id": "5GpVqh-mhBCB"
   },
   "outputs": [],
   "source": [
    "# read in the train file\n",
    "train = pd.read_csv(\"train.csv\")"
   ]
  },
  {
   "cell_type": "code",
   "execution_count": 163,
   "metadata": {
    "colab": {
     "base_uri": "https://localhost:8080/",
     "height": 204
    },
    "colab_type": "code",
    "id": "gUwhYCHJhBCD",
    "outputId": "4fc09fb7-3103-4d6b-c805-ba4ebeb4f0bb"
   },
   "outputs": [
    {
     "data": {
      "text/html": [
       "<div>\n",
       "<style scoped>\n",
       "    .dataframe tbody tr th:only-of-type {\n",
       "        vertical-align: middle;\n",
       "    }\n",
       "\n",
       "    .dataframe tbody tr th {\n",
       "        vertical-align: top;\n",
       "    }\n",
       "\n",
       "    .dataframe thead th {\n",
       "        text-align: right;\n",
       "    }\n",
       "</style>\n",
       "<table border=\"1\" class=\"dataframe\">\n",
       "  <thead>\n",
       "    <tr style=\"text-align: right;\">\n",
       "      <th></th>\n",
       "      <th>user_sequence</th>\n",
       "      <th>user_id</th>\n",
       "      <th>challenge_sequence</th>\n",
       "      <th>challenge</th>\n",
       "    </tr>\n",
       "  </thead>\n",
       "  <tbody>\n",
       "    <tr>\n",
       "      <th>0</th>\n",
       "      <td>4576_1</td>\n",
       "      <td>4576</td>\n",
       "      <td>1</td>\n",
       "      <td>CI23714</td>\n",
       "    </tr>\n",
       "    <tr>\n",
       "      <th>1</th>\n",
       "      <td>4576_2</td>\n",
       "      <td>4576</td>\n",
       "      <td>2</td>\n",
       "      <td>CI23855</td>\n",
       "    </tr>\n",
       "    <tr>\n",
       "      <th>2</th>\n",
       "      <td>4576_3</td>\n",
       "      <td>4576</td>\n",
       "      <td>3</td>\n",
       "      <td>CI24917</td>\n",
       "    </tr>\n",
       "    <tr>\n",
       "      <th>3</th>\n",
       "      <td>4576_4</td>\n",
       "      <td>4576</td>\n",
       "      <td>4</td>\n",
       "      <td>CI23663</td>\n",
       "    </tr>\n",
       "    <tr>\n",
       "      <th>4</th>\n",
       "      <td>4576_5</td>\n",
       "      <td>4576</td>\n",
       "      <td>5</td>\n",
       "      <td>CI23933</td>\n",
       "    </tr>\n",
       "  </tbody>\n",
       "</table>\n",
       "</div>"
      ],
      "text/plain": [
       "  user_sequence  user_id  challenge_sequence challenge\n",
       "0        4576_1     4576                   1   CI23714\n",
       "1        4576_2     4576                   2   CI23855\n",
       "2        4576_3     4576                   3   CI24917\n",
       "3        4576_4     4576                   4   CI23663\n",
       "4        4576_5     4576                   5   CI23933"
      ]
     },
     "execution_count": 163,
     "metadata": {
      "tags": []
     },
     "output_type": "execute_result"
    }
   ],
   "source": [
    "train.head()"
   ]
  },
  {
   "cell_type": "code",
   "execution_count": 164,
   "metadata": {
    "colab": {
     "base_uri": "https://localhost:8080/",
     "height": 34
    },
    "colab_type": "code",
    "id": "IYViGPirhBCF",
    "outputId": "4a66e13b-50fe-4391-fc66-6ea9e09e87a2"
   },
   "outputs": [
    {
     "data": {
      "text/plain": [
       "(903916, 4)"
      ]
     },
     "execution_count": 164,
     "metadata": {
      "tags": []
     },
     "output_type": "execute_result"
    }
   ],
   "source": [
    "train.shape"
   ]
  },
  {
   "cell_type": "code",
   "execution_count": 165,
   "metadata": {
    "colab": {
     "base_uri": "https://localhost:8080/",
     "height": 34
    },
    "colab_type": "code",
    "id": "D5LVQTvuhBCI",
    "outputId": "d0ac6a3d-4cce-40e5-86d1-dbab54b299fe"
   },
   "outputs": [
    {
     "data": {
      "text/plain": [
       "69532"
      ]
     },
     "execution_count": 165,
     "metadata": {
      "tags": []
     },
     "output_type": "execute_result"
    }
   ],
   "source": [
    "# how many unique users\n",
    "train.user_id.nunique()"
   ]
  },
  {
   "cell_type": "code",
   "execution_count": 166,
   "metadata": {
    "colab": {
     "base_uri": "https://localhost:8080/",
     "height": 34
    },
    "colab_type": "code",
    "id": "A13fI9QOhBCM",
    "outputId": "f22b403e-83ab-4da9-e28c-1202ca28cb54"
   },
   "outputs": [
    {
     "data": {
      "text/plain": [
       "5348"
      ]
     },
     "execution_count": 166,
     "metadata": {
      "tags": []
     },
     "output_type": "execute_result"
    }
   ],
   "source": [
    "# how many unique  challenges\n",
    "train.challenge.nunique()"
   ]
  },
  {
   "cell_type": "code",
   "execution_count": 167,
   "metadata": {
    "colab": {},
    "colab_type": "code",
    "id": "AaBfKfFHhBCO"
   },
   "outputs": [],
   "source": [
    "# read in the test file\n",
    "test = pd.read_csv(\"test.csv\")"
   ]
  },
  {
   "cell_type": "code",
   "execution_count": 168,
   "metadata": {
    "colab": {
     "base_uri": "https://localhost:8080/",
     "height": 204
    },
    "colab_type": "code",
    "id": "4AciNDYIhBCP",
    "outputId": "ac71bef7-0ee0-418f-d5a0-b64a33f6dc64"
   },
   "outputs": [
    {
     "data": {
      "text/html": [
       "<div>\n",
       "<style scoped>\n",
       "    .dataframe tbody tr th:only-of-type {\n",
       "        vertical-align: middle;\n",
       "    }\n",
       "\n",
       "    .dataframe tbody tr th {\n",
       "        vertical-align: top;\n",
       "    }\n",
       "\n",
       "    .dataframe thead th {\n",
       "        text-align: right;\n",
       "    }\n",
       "</style>\n",
       "<table border=\"1\" class=\"dataframe\">\n",
       "  <thead>\n",
       "    <tr style=\"text-align: right;\">\n",
       "      <th></th>\n",
       "      <th>user_sequence</th>\n",
       "      <th>user_id</th>\n",
       "      <th>challenge_sequence</th>\n",
       "      <th>challenge</th>\n",
       "    </tr>\n",
       "  </thead>\n",
       "  <tbody>\n",
       "    <tr>\n",
       "      <th>0</th>\n",
       "      <td>4577_1</td>\n",
       "      <td>4577</td>\n",
       "      <td>1</td>\n",
       "      <td>CI23855</td>\n",
       "    </tr>\n",
       "    <tr>\n",
       "      <th>1</th>\n",
       "      <td>4577_2</td>\n",
       "      <td>4577</td>\n",
       "      <td>2</td>\n",
       "      <td>CI23933</td>\n",
       "    </tr>\n",
       "    <tr>\n",
       "      <th>2</th>\n",
       "      <td>4577_3</td>\n",
       "      <td>4577</td>\n",
       "      <td>3</td>\n",
       "      <td>CI24917</td>\n",
       "    </tr>\n",
       "    <tr>\n",
       "      <th>3</th>\n",
       "      <td>4577_4</td>\n",
       "      <td>4577</td>\n",
       "      <td>4</td>\n",
       "      <td>CI24915</td>\n",
       "    </tr>\n",
       "    <tr>\n",
       "      <th>4</th>\n",
       "      <td>4577_5</td>\n",
       "      <td>4577</td>\n",
       "      <td>5</td>\n",
       "      <td>CI23714</td>\n",
       "    </tr>\n",
       "  </tbody>\n",
       "</table>\n",
       "</div>"
      ],
      "text/plain": [
       "  user_sequence  user_id  challenge_sequence challenge\n",
       "0        4577_1     4577                   1   CI23855\n",
       "1        4577_2     4577                   2   CI23933\n",
       "2        4577_3     4577                   3   CI24917\n",
       "3        4577_4     4577                   4   CI24915\n",
       "4        4577_5     4577                   5   CI23714"
      ]
     },
     "execution_count": 168,
     "metadata": {
      "tags": []
     },
     "output_type": "execute_result"
    }
   ],
   "source": [
    "test.head()"
   ]
  },
  {
   "cell_type": "code",
   "execution_count": 169,
   "metadata": {
    "colab": {
     "base_uri": "https://localhost:8080/",
     "height": 34
    },
    "colab_type": "code",
    "id": "Afjt4BTRhBCR",
    "outputId": "6fe4f04e-3e55-44ba-d159-7bf6a87f9d47"
   },
   "outputs": [
    {
     "data": {
      "text/plain": [
       "39732"
      ]
     },
     "execution_count": 169,
     "metadata": {
      "tags": []
     },
     "output_type": "execute_result"
    }
   ],
   "source": [
    "# how many users in here?\n",
    "test.user_id.nunique()"
   ]
  },
  {
   "cell_type": "code",
   "execution_count": 170,
   "metadata": {
    "colab": {},
    "colab_type": "code",
    "id": "_1d-TeBshBCT"
   },
   "outputs": [],
   "source": [
    "# read in the challenge detail files\n",
    "details = pd.read_csv(\"challenge_data.csv\")"
   ]
  },
  {
   "cell_type": "code",
   "execution_count": 171,
   "metadata": {
    "colab": {
     "base_uri": "https://localhost:8080/",
     "height": 204
    },
    "colab_type": "code",
    "id": "cS_K099PhBCU",
    "outputId": "b9b9aa6d-e037-432e-feca-41370e545e8d"
   },
   "outputs": [
    {
     "data": {
      "text/html": [
       "<div>\n",
       "<style scoped>\n",
       "    .dataframe tbody tr th:only-of-type {\n",
       "        vertical-align: middle;\n",
       "    }\n",
       "\n",
       "    .dataframe tbody tr th {\n",
       "        vertical-align: top;\n",
       "    }\n",
       "\n",
       "    .dataframe thead th {\n",
       "        text-align: right;\n",
       "    }\n",
       "</style>\n",
       "<table border=\"1\" class=\"dataframe\">\n",
       "  <thead>\n",
       "    <tr style=\"text-align: right;\">\n",
       "      <th></th>\n",
       "      <th>challenge_ID</th>\n",
       "      <th>programming_language</th>\n",
       "      <th>challenge_series_ID</th>\n",
       "      <th>total_submissions</th>\n",
       "      <th>publish_date</th>\n",
       "      <th>author_ID</th>\n",
       "      <th>author_gender</th>\n",
       "      <th>author_org_ID</th>\n",
       "      <th>category_id</th>\n",
       "    </tr>\n",
       "  </thead>\n",
       "  <tbody>\n",
       "    <tr>\n",
       "      <th>0</th>\n",
       "      <td>CI23478</td>\n",
       "      <td>2</td>\n",
       "      <td>SI2445</td>\n",
       "      <td>37.0</td>\n",
       "      <td>06-05-2006</td>\n",
       "      <td>AI563576</td>\n",
       "      <td>M</td>\n",
       "      <td>AOI100001</td>\n",
       "      <td>NaN</td>\n",
       "    </tr>\n",
       "    <tr>\n",
       "      <th>1</th>\n",
       "      <td>CI23479</td>\n",
       "      <td>2</td>\n",
       "      <td>SI2435</td>\n",
       "      <td>48.0</td>\n",
       "      <td>17-10-2002</td>\n",
       "      <td>AI563577</td>\n",
       "      <td>M</td>\n",
       "      <td>AOI100002</td>\n",
       "      <td>32.0</td>\n",
       "    </tr>\n",
       "    <tr>\n",
       "      <th>2</th>\n",
       "      <td>CI23480</td>\n",
       "      <td>1</td>\n",
       "      <td>SI2435</td>\n",
       "      <td>15.0</td>\n",
       "      <td>16-10-2002</td>\n",
       "      <td>AI563578</td>\n",
       "      <td>M</td>\n",
       "      <td>AOI100003</td>\n",
       "      <td>NaN</td>\n",
       "    </tr>\n",
       "    <tr>\n",
       "      <th>3</th>\n",
       "      <td>CI23481</td>\n",
       "      <td>1</td>\n",
       "      <td>SI2710</td>\n",
       "      <td>236.0</td>\n",
       "      <td>19-09-2003</td>\n",
       "      <td>AI563579</td>\n",
       "      <td>M</td>\n",
       "      <td>AOI100004</td>\n",
       "      <td>70.0</td>\n",
       "    </tr>\n",
       "    <tr>\n",
       "      <th>4</th>\n",
       "      <td>CI23482</td>\n",
       "      <td>2</td>\n",
       "      <td>SI2440</td>\n",
       "      <td>137.0</td>\n",
       "      <td>21-03-2002</td>\n",
       "      <td>AI563580</td>\n",
       "      <td>M</td>\n",
       "      <td>AOI100005</td>\n",
       "      <td>NaN</td>\n",
       "    </tr>\n",
       "  </tbody>\n",
       "</table>\n",
       "</div>"
      ],
      "text/plain": [
       "  challenge_ID  programming_language  ... author_org_ID  category_id\n",
       "0      CI23478                     2  ...     AOI100001          NaN\n",
       "1      CI23479                     2  ...     AOI100002         32.0\n",
       "2      CI23480                     1  ...     AOI100003          NaN\n",
       "3      CI23481                     1  ...     AOI100004         70.0\n",
       "4      CI23482                     2  ...     AOI100005          NaN\n",
       "\n",
       "[5 rows x 9 columns]"
      ]
     },
     "execution_count": 171,
     "metadata": {
      "tags": []
     },
     "output_type": "execute_result"
    }
   ],
   "source": [
    "details.head()"
   ]
  },
  {
   "cell_type": "markdown",
   "metadata": {
    "colab_type": "text",
    "id": "rg4ycvy5hBCW"
   },
   "source": [
    "# First Method - Multi Class Classification"
   ]
  },
  {
   "cell_type": "code",
   "execution_count": 172,
   "metadata": {
    "colab": {},
    "colab_type": "code",
    "id": "feGsh_t5hBCX"
   },
   "outputs": [],
   "source": [
    "# first label encode the challenges\n",
    "from sklearn.preprocessing import LabelEncoder, OneHotEncoder"
   ]
  },
  {
   "cell_type": "code",
   "execution_count": 173,
   "metadata": {
    "colab": {},
    "colab_type": "code",
    "id": "04NCgY_LhBCa"
   },
   "outputs": [],
   "source": [
    "# instantiate label encoder\n",
    "le = LabelEncoder()\n",
    "\n",
    "#label encoding to be done on concatenation of train and test\n",
    "train_test_challenges = pd.concat([train.challenge,test.challenge])"
   ]
  },
  {
   "cell_type": "code",
   "execution_count": 174,
   "metadata": {
    "colab": {
     "base_uri": "https://localhost:8080/",
     "height": 221
    },
    "colab_type": "code",
    "id": "I7lo6qMThBCc",
    "outputId": "cef0efa2-cc29-4c9a-f732-df4736da20f7"
   },
   "outputs": [
    {
     "data": {
      "text/plain": [
       "0         CI23714\n",
       "1         CI23855\n",
       "2         CI24917\n",
       "3         CI23663\n",
       "4         CI23933\n",
       "           ...   \n",
       "397315    CI23691\n",
       "397316    CI24138\n",
       "397317    CI23714\n",
       "397318    CI24530\n",
       "397319    CI23612\n",
       "Name: challenge, Length: 1301236, dtype: object"
      ]
     },
     "execution_count": 174,
     "metadata": {
      "tags": []
     },
     "output_type": "execute_result"
    }
   ],
   "source": [
    "train_test_challenges"
   ]
  },
  {
   "cell_type": "code",
   "execution_count": 175,
   "metadata": {
    "colab": {
     "base_uri": "https://localhost:8080/",
     "height": 34
    },
    "colab_type": "code",
    "id": "li_joIodhBCe",
    "outputId": "22e91d70-f800-4b46-d915-e76a0088d047"
   },
   "outputs": [
    {
     "data": {
      "text/plain": [
       "LabelEncoder()"
      ]
     },
     "execution_count": 175,
     "metadata": {
      "tags": []
     },
     "output_type": "execute_result"
    }
   ],
   "source": [
    "le.fit(train_test_challenges)"
   ]
  },
  {
   "cell_type": "code",
   "execution_count": 176,
   "metadata": {
    "colab": {
     "base_uri": "https://localhost:8080/",
     "height": 34
    },
    "colab_type": "code",
    "id": "wNi09IjShBCf",
    "outputId": "a23a5ab7-5b3e-45a3-939b-480279231bdb"
   },
   "outputs": [
    {
     "data": {
      "text/plain": [
       "5502"
      ]
     },
     "execution_count": 176,
     "metadata": {
      "tags": []
     },
     "output_type": "execute_result"
    }
   ],
   "source": [
    "len(le.classes_)"
   ]
  },
  {
   "cell_type": "code",
   "execution_count": 177,
   "metadata": {
    "colab": {
     "base_uri": "https://localhost:8080/",
     "height": 34
    },
    "colab_type": "code",
    "id": "jLDSqNHXhBCi",
    "outputId": "ad3fccc1-f654-4f91-c4a0-f247ef7d4312"
   },
   "outputs": [
    {
     "data": {
      "text/plain": [
       "array([   0,    1,    2, ..., 5499, 5500, 5501])"
      ]
     },
     "execution_count": 177,
     "metadata": {
      "tags": []
     },
     "output_type": "execute_result"
    }
   ],
   "source": [
    "le.transform(le.classes_)"
   ]
  },
  {
   "cell_type": "code",
   "execution_count": 178,
   "metadata": {
    "colab": {},
    "colab_type": "code",
    "id": "BXRlt-u2hBCj"
   },
   "outputs": [],
   "source": [
    "train1 = train.copy()"
   ]
  },
  {
   "cell_type": "code",
   "execution_count": 179,
   "metadata": {
    "colab": {},
    "colab_type": "code",
    "id": "VdYWbb0ThBCl"
   },
   "outputs": [],
   "source": [
    "train1[\"challenge\"] = le.transform(train1[\"challenge\"])"
   ]
  },
  {
   "cell_type": "code",
   "execution_count": 180,
   "metadata": {
    "colab": {
     "base_uri": "https://localhost:8080/",
     "height": 419
    },
    "colab_type": "code",
    "id": "IlB-MakahBCn",
    "outputId": "f213319f-b4f8-42b2-fdc9-12ff68af0e36"
   },
   "outputs": [
    {
     "data": {
      "text/html": [
       "<div>\n",
       "<style scoped>\n",
       "    .dataframe tbody tr th:only-of-type {\n",
       "        vertical-align: middle;\n",
       "    }\n",
       "\n",
       "    .dataframe tbody tr th {\n",
       "        vertical-align: top;\n",
       "    }\n",
       "\n",
       "    .dataframe thead th {\n",
       "        text-align: right;\n",
       "    }\n",
       "</style>\n",
       "<table border=\"1\" class=\"dataframe\">\n",
       "  <thead>\n",
       "    <tr style=\"text-align: right;\">\n",
       "      <th></th>\n",
       "      <th>user_sequence</th>\n",
       "      <th>user_id</th>\n",
       "      <th>challenge_sequence</th>\n",
       "      <th>challenge</th>\n",
       "    </tr>\n",
       "  </thead>\n",
       "  <tbody>\n",
       "    <tr>\n",
       "      <th>0</th>\n",
       "      <td>4576_1</td>\n",
       "      <td>4576</td>\n",
       "      <td>1</td>\n",
       "      <td>233</td>\n",
       "    </tr>\n",
       "    <tr>\n",
       "      <th>1</th>\n",
       "      <td>4576_2</td>\n",
       "      <td>4576</td>\n",
       "      <td>2</td>\n",
       "      <td>374</td>\n",
       "    </tr>\n",
       "    <tr>\n",
       "      <th>2</th>\n",
       "      <td>4576_3</td>\n",
       "      <td>4576</td>\n",
       "      <td>3</td>\n",
       "      <td>1421</td>\n",
       "    </tr>\n",
       "    <tr>\n",
       "      <th>3</th>\n",
       "      <td>4576_4</td>\n",
       "      <td>4576</td>\n",
       "      <td>4</td>\n",
       "      <td>182</td>\n",
       "    </tr>\n",
       "    <tr>\n",
       "      <th>4</th>\n",
       "      <td>4576_5</td>\n",
       "      <td>4576</td>\n",
       "      <td>5</td>\n",
       "      <td>451</td>\n",
       "    </tr>\n",
       "    <tr>\n",
       "      <th>...</th>\n",
       "      <td>...</td>\n",
       "      <td>...</td>\n",
       "      <td>...</td>\n",
       "      <td>...</td>\n",
       "    </tr>\n",
       "    <tr>\n",
       "      <th>903911</th>\n",
       "      <td>113839_9</td>\n",
       "      <td>113839</td>\n",
       "      <td>9</td>\n",
       "      <td>1496</td>\n",
       "    </tr>\n",
       "    <tr>\n",
       "      <th>903912</th>\n",
       "      <td>113839_10</td>\n",
       "      <td>113839</td>\n",
       "      <td>10</td>\n",
       "      <td>5033</td>\n",
       "    </tr>\n",
       "    <tr>\n",
       "      <th>903913</th>\n",
       "      <td>113839_11</td>\n",
       "      <td>113839</td>\n",
       "      <td>11</td>\n",
       "      <td>5056</td>\n",
       "    </tr>\n",
       "    <tr>\n",
       "      <th>903914</th>\n",
       "      <td>113839_12</td>\n",
       "      <td>113839</td>\n",
       "      <td>12</td>\n",
       "      <td>2875</td>\n",
       "    </tr>\n",
       "    <tr>\n",
       "      <th>903915</th>\n",
       "      <td>113839_13</td>\n",
       "      <td>113839</td>\n",
       "      <td>13</td>\n",
       "      <td>5075</td>\n",
       "    </tr>\n",
       "  </tbody>\n",
       "</table>\n",
       "<p>903916 rows × 4 columns</p>\n",
       "</div>"
      ],
      "text/plain": [
       "       user_sequence  user_id  challenge_sequence  challenge\n",
       "0             4576_1     4576                   1        233\n",
       "1             4576_2     4576                   2        374\n",
       "2             4576_3     4576                   3       1421\n",
       "3             4576_4     4576                   4        182\n",
       "4             4576_5     4576                   5        451\n",
       "...              ...      ...                 ...        ...\n",
       "903911      113839_9   113839                   9       1496\n",
       "903912     113839_10   113839                  10       5033\n",
       "903913     113839_11   113839                  11       5056\n",
       "903914     113839_12   113839                  12       2875\n",
       "903915     113839_13   113839                  13       5075\n",
       "\n",
       "[903916 rows x 4 columns]"
      ]
     },
     "execution_count": 180,
     "metadata": {
      "tags": []
     },
     "output_type": "execute_result"
    }
   ],
   "source": [
    "train1"
   ]
  },
  {
   "cell_type": "code",
   "execution_count": 181,
   "metadata": {
    "colab": {
     "base_uri": "https://localhost:8080/",
     "height": 66,
     "referenced_widgets": [
      "60dd37fbb4504af28d49e790b9af07ff",
      "ea5c974a2ad4444ea4c00d4b50ed2508",
      "ce5b8c2a44a044539940e3c3cf947983",
      "4b71ad5875cb45e48587d02ceb09108a",
      "cb7d577df9a040c091a54dbd8b659f3a",
      "40978fa736f4499e9a859492ddadbbce",
      "640bfffa025d44febca89f4d7c077729",
      "87b75762b0374df4990d2e920188ad12"
     ]
    },
    "colab_type": "code",
    "id": "q6Ork-llhBCp",
    "outputId": "22770fc3-31a0-4b34-daae-a0f14bbd0817"
   },
   "outputs": [
    {
     "data": {
      "application/vnd.jupyter.widget-view+json": {
       "model_id": "60dd37fbb4504af28d49e790b9af07ff",
       "version_major": 2,
       "version_minor": 0
      },
      "text/plain": [
       "HBox(children=(FloatProgress(value=0.0, max=69532.0), HTML(value='')))"
      ]
     },
     "metadata": {
      "tags": []
     },
     "output_type": "display_data"
    },
    {
     "name": "stdout",
     "output_type": "stream",
     "text": [
      "\n"
     ]
    }
   ],
   "source": [
    "# prepare data \n",
    "\n",
    "catch = []\n",
    "for i in tqdm(np.unique(train1[\"user_id\"])): \n",
    "    temp_data = train1[train1.user_id == i]\n",
    "    # get the items he or she has used\n",
    "    items_used = temp_data.challenge.tolist()\n",
    "    catch.append({\"user_id\": i, \"sequence_challenges\": items_used})"
   ]
  },
  {
   "cell_type": "code",
   "execution_count": 182,
   "metadata": {
    "colab": {},
    "colab_type": "code",
    "id": "zTiu7Mp1hBCq"
   },
   "outputs": [],
   "source": [
    "train_valid_sequence = pd.DataFrame(catch)"
   ]
  },
  {
   "cell_type": "code",
   "execution_count": 183,
   "metadata": {
    "colab": {
     "base_uri": "https://localhost:8080/",
     "height": 419
    },
    "colab_type": "code",
    "id": "JRQX3cryhBCt",
    "outputId": "e0b8656b-97d7-4f55-eb3f-8d511bd04fd6"
   },
   "outputs": [
    {
     "data": {
      "text/html": [
       "<div>\n",
       "<style scoped>\n",
       "    .dataframe tbody tr th:only-of-type {\n",
       "        vertical-align: middle;\n",
       "    }\n",
       "\n",
       "    .dataframe tbody tr th {\n",
       "        vertical-align: top;\n",
       "    }\n",
       "\n",
       "    .dataframe thead th {\n",
       "        text-align: right;\n",
       "    }\n",
       "</style>\n",
       "<table border=\"1\" class=\"dataframe\">\n",
       "  <thead>\n",
       "    <tr style=\"text-align: right;\">\n",
       "      <th></th>\n",
       "      <th>user_id</th>\n",
       "      <th>sequence_challenges</th>\n",
       "    </tr>\n",
       "  </thead>\n",
       "  <tbody>\n",
       "    <tr>\n",
       "      <th>0</th>\n",
       "      <td>4576</td>\n",
       "      <td>[233, 374, 1421, 182, 451, 1636, 493, 1627, 14...</td>\n",
       "    </tr>\n",
       "    <tr>\n",
       "      <th>1</th>\n",
       "      <td>4580</td>\n",
       "      <td>[182, 374, 451, 493, 1039, 233, 167, 300, 186,...</td>\n",
       "    </tr>\n",
       "    <tr>\n",
       "      <th>2</th>\n",
       "      <td>4581</td>\n",
       "      <td>[2643, 2644, 2645, 2646, 2647, 2648, 2649, 265...</td>\n",
       "    </tr>\n",
       "    <tr>\n",
       "      <th>3</th>\n",
       "      <td>4582</td>\n",
       "      <td>[374, 1419, 1421, 451, 182, 1462, 493, 233, 14...</td>\n",
       "    </tr>\n",
       "    <tr>\n",
       "      <th>4</th>\n",
       "      <td>4585</td>\n",
       "      <td>[374, 493, 1421, 1636, 367, 233, 182, 451, 146...</td>\n",
       "    </tr>\n",
       "    <tr>\n",
       "      <th>...</th>\n",
       "      <td>...</td>\n",
       "      <td>...</td>\n",
       "    </tr>\n",
       "    <tr>\n",
       "      <th>69527</th>\n",
       "      <td>113833</td>\n",
       "      <td>[451, 1039, 1799, 1380, 2547, 946, 1575, 1030,...</td>\n",
       "    </tr>\n",
       "    <tr>\n",
       "      <th>69528</th>\n",
       "      <td>113835</td>\n",
       "      <td>[374, 451, 1759, 288, 1527, 1526, 1379, 1373, ...</td>\n",
       "    </tr>\n",
       "    <tr>\n",
       "      <th>69529</th>\n",
       "      <td>113836</td>\n",
       "      <td>[746, 1435, 2542, 3402, 1461, 1462, 517, 1434,...</td>\n",
       "    </tr>\n",
       "    <tr>\n",
       "      <th>69530</th>\n",
       "      <td>113837</td>\n",
       "      <td>[399, 451, 2543, 1370, 1551, 2174, 2169, 1380,...</td>\n",
       "    </tr>\n",
       "    <tr>\n",
       "      <th>69531</th>\n",
       "      <td>113839</td>\n",
       "      <td>[1419, 1435, 1458, 1472, 1461, 2222, 259, 4784...</td>\n",
       "    </tr>\n",
       "  </tbody>\n",
       "</table>\n",
       "<p>69532 rows × 2 columns</p>\n",
       "</div>"
      ],
      "text/plain": [
       "       user_id                                sequence_challenges\n",
       "0         4576  [233, 374, 1421, 182, 451, 1636, 493, 1627, 14...\n",
       "1         4580  [182, 374, 451, 493, 1039, 233, 167, 300, 186,...\n",
       "2         4581  [2643, 2644, 2645, 2646, 2647, 2648, 2649, 265...\n",
       "3         4582  [374, 1419, 1421, 451, 182, 1462, 493, 233, 14...\n",
       "4         4585  [374, 493, 1421, 1636, 367, 233, 182, 451, 146...\n",
       "...        ...                                                ...\n",
       "69527   113833  [451, 1039, 1799, 1380, 2547, 946, 1575, 1030,...\n",
       "69528   113835  [374, 451, 1759, 288, 1527, 1526, 1379, 1373, ...\n",
       "69529   113836  [746, 1435, 2542, 3402, 1461, 1462, 517, 1434,...\n",
       "69530   113837  [399, 451, 2543, 1370, 1551, 2174, 2169, 1380,...\n",
       "69531   113839  [1419, 1435, 1458, 1472, 1461, 2222, 259, 4784...\n",
       "\n",
       "[69532 rows x 2 columns]"
      ]
     },
     "execution_count": 183,
     "metadata": {
      "tags": []
     },
     "output_type": "execute_result"
    }
   ],
   "source": [
    "train_valid_sequence"
   ]
  },
  {
   "cell_type": "code",
   "execution_count": 184,
   "metadata": {
    "colab": {},
    "colab_type": "code",
    "id": "20u8KEVZhBCv"
   },
   "outputs": [],
   "source": [
    "import random"
   ]
  },
  {
   "cell_type": "code",
   "execution_count": 185,
   "metadata": {
    "colab": {},
    "colab_type": "code",
    "id": "VNVHXaHKhBCw"
   },
   "outputs": [],
   "source": [
    "random.seed(42)"
   ]
  },
  {
   "cell_type": "code",
   "execution_count": 186,
   "metadata": {
    "colab": {},
    "colab_type": "code",
    "id": "hQ8UppVehBCy"
   },
   "outputs": [],
   "source": [
    "train_users = random.sample(set(train_valid_sequence.user_id), k = round(0.95*len(train_valid_sequence.user_id)))"
   ]
  },
  {
   "cell_type": "code",
   "execution_count": 187,
   "metadata": {
    "colab": {},
    "colab_type": "code",
    "id": "eHXHRaVUhBCz"
   },
   "outputs": [],
   "source": [
    "test_users = set(train_valid_sequence.user_id).difference(set(train_users))"
   ]
  },
  {
   "cell_type": "code",
   "execution_count": 188,
   "metadata": {
    "colab": {},
    "colab_type": "code",
    "id": "bm39S8idhBC2"
   },
   "outputs": [],
   "source": [
    "train_data = train_valid_sequence[train_valid_sequence.user_id.isin(train_users)].reset_index(drop = True)"
   ]
  },
  {
   "cell_type": "code",
   "execution_count": 189,
   "metadata": {
    "colab": {},
    "colab_type": "code",
    "id": "wp1rCK7xhBC5"
   },
   "outputs": [],
   "source": [
    "valid_data = train_valid_sequence[train_valid_sequence.user_id.isin(test_users)].reset_index(drop = True)"
   ]
  },
  {
   "cell_type": "code",
   "execution_count": 190,
   "metadata": {
    "colab": {},
    "colab_type": "code",
    "id": "74gnc-rahBC7"
   },
   "outputs": [],
   "source": [
    "# one hot encode\n",
    "\n",
    "use_sequence_train = [i[:10] for i in train_data[\"sequence_challenges\"]]\n",
    "\n",
    "target_sequence_train = [i[10:13] for i in train_data[\"sequence_challenges\"]]"
   ]
  },
  {
   "cell_type": "code",
   "execution_count": 191,
   "metadata": {
    "colab": {},
    "colab_type": "code",
    "id": "WffHH-88hBC8"
   },
   "outputs": [],
   "source": [
    "use_sequence_valid = [i[:10] for i in valid_data[\"sequence_challenges\"]]\n",
    "\n",
    "target_sequence_valid = [i[10:13] for i in valid_data[\"sequence_challenges\"]]"
   ]
  },
  {
   "cell_type": "code",
   "execution_count": null,
   "metadata": {
    "colab": {},
    "colab_type": "code",
    "id": "OIMVFPw4hBC-"
   },
   "outputs": [],
   "source": [
    "# # prepare the training data - one hot encode the training sequence \n",
    "# # and one hot encode the target sequence as well\n",
    "# # but make it three target sequences for each user\n",
    "\n",
    "# # one_hot_encoded_array = []\n",
    "# # one_hot_encoded_targets_array = []\n",
    "# one_hot_encoded = np.zeros((len(train_users)*3, len(le.classes_))).astype(\"float32\")\n",
    "# one_hot_encoded_targets_array = np.zeros((len(train_users)*3, len(le.classes_))).astype(\"float32\")\n",
    "\n",
    "# counter = 0\n",
    "# for i,n in tqdm(enumerate(train_data.user_id)):\n",
    "    \n",
    "    \n",
    "#     sequence = use_sequence_train[i]\n",
    "#     target_used = target_sequence_train[i]\n",
    "    \n",
    "#     for j in sequence:\n",
    "#         one_hot_encoded[i:i+3,j] = 1\n",
    "        \n",
    "    \n",
    "    \n",
    "#     for k,l in enumerate(target_used):\n",
    "#         one_hot_encoded_targets = np.zeros((1, len(le.classes_))).astype(\"float32\")\n",
    "#         one_hot_encoded_targets[0,l] = 1\n",
    "# #         one_hot_encoded_array.append(one_hot_encoded.tolist())\n",
    "#         one_hot_encoded_targets_array[counter,:] = one_hot_encoded_targets\n",
    "#         counter = counter + 1"
   ]
  },
  {
   "cell_type": "code",
   "execution_count": null,
   "metadata": {
    "colab": {},
    "colab_type": "code",
    "id": "dCpW8eJKhBC_"
   },
   "outputs": [],
   "source": [
    "# # prepare the training data - one hot encode the training sequence \n",
    "# # and one hot encode the target sequence as well\n",
    "# # but make it three target sequences for each user\n",
    "\n",
    "# # one_hot_encoded_array_valid = []\n",
    "# # one_hot_encoded_targets_array = []\n",
    "# one_hot_encoded_valid = np.zeros((len(test_users)*3, len(le.classes_))).astype(\"float32\")\n",
    "# one_hot_encoded_targets_array_valid = np.zeros((len(test_users)*3, len(le.classes_))).astype(\"float32\")\n",
    "\n",
    "# counter = 0\n",
    "# for i,n in tqdm(enumerate(valid_data.user_id)):\n",
    "    \n",
    "    \n",
    "#     sequence = use_sequence_valid[i]\n",
    "#     target_used = target_sequence_valid[i]\n",
    "    \n",
    "#     for j in sequence:\n",
    "#         one_hot_encoded_valid[i:i+3,j] = 1\n",
    "        \n",
    "    \n",
    "    \n",
    "#     for k,l in enumerate(target_used):\n",
    "#         one_hot_encoded_targets = np.zeros((1, len(le.classes_))).astype(\"float32\")\n",
    "#         one_hot_encoded_targets[0,l] = 1\n",
    "# #         one_hot_encoded_array.append(one_hot_encoded.tolist())\n",
    "#         one_hot_encoded_targets_array_valid[counter,:] = one_hot_encoded_targets\n",
    "#         counter = counter + 1"
   ]
  },
  {
   "cell_type": "code",
   "execution_count": 192,
   "metadata": {
    "colab": {},
    "colab_type": "code",
    "id": "TjS3wpanhBDB"
   },
   "outputs": [],
   "source": [
    "import keras"
   ]
  },
  {
   "cell_type": "markdown",
   "metadata": {
    "colab_type": "text",
    "id": "3ASZtYBXhBDC"
   },
   "source": [
    "# Second Method - Maybe RNN"
   ]
  },
  {
   "cell_type": "code",
   "execution_count": 193,
   "metadata": {
    "colab": {},
    "colab_type": "code",
    "id": "Ye4t0fklhBDD"
   },
   "outputs": [],
   "source": [
    "use_sequence_train = [i for i in use_sequence_train for j in range(3)]"
   ]
  },
  {
   "cell_type": "code",
   "execution_count": null,
   "metadata": {
    "colab": {},
    "colab_type": "code",
    "id": "F-qjJNJMhBDE"
   },
   "outputs": [],
   "source": [
    "# use_sequence_train = [i for i in use_sequence_train for j in range(3)]"
   ]
  },
  {
   "cell_type": "code",
   "execution_count": 194,
   "metadata": {
    "colab": {},
    "colab_type": "code",
    "id": "G0pWM6QghBDG"
   },
   "outputs": [],
   "source": [
    "use_sequence_train = np.array(use_sequence_train)"
   ]
  },
  {
   "cell_type": "code",
   "execution_count": 195,
   "metadata": {
    "colab": {
     "base_uri": "https://localhost:8080/",
     "height": 34
    },
    "colab_type": "code",
    "id": "69WkdpHehBDH",
    "outputId": "8bbbbb57-8c1d-4ee3-9e86-10855a3fddd5"
   },
   "outputs": [
    {
     "data": {
      "text/plain": [
       "(198165, 10)"
      ]
     },
     "execution_count": 195,
     "metadata": {
      "tags": []
     },
     "output_type": "execute_result"
    }
   ],
   "source": [
    "use_sequence_train.shape"
   ]
  },
  {
   "cell_type": "code",
   "execution_count": 196,
   "metadata": {
    "colab": {},
    "colab_type": "code",
    "id": "QmubBVOWhBDJ"
   },
   "outputs": [],
   "source": [
    "target_sequence_train = [[j] for i in target_sequence_train for j in i]"
   ]
  },
  {
   "cell_type": "code",
   "execution_count": null,
   "metadata": {
    "colab": {
     "base_uri": "https://localhost:8080/",
     "height": 34
    },
    "colab_type": "code",
    "id": "6zvk3O-thBDM",
    "outputId": "3c147b68-fee8-46ff-d638-961a3b6572b0"
   },
   "outputs": [
    {
     "data": {
      "text/plain": [
       "(594495, 1)"
      ]
     },
     "execution_count": 87,
     "metadata": {
      "tags": []
     },
     "output_type": "execute_result"
    }
   ],
   "source": [
    "np.array(target_sequence_train).shape"
   ]
  },
  {
   "cell_type": "code",
   "execution_count": 197,
   "metadata": {
    "colab": {},
    "colab_type": "code",
    "id": "lWtzfM0_hBDN"
   },
   "outputs": [],
   "source": [
    "target_sequence_train = np.array(target_sequence_train)"
   ]
  },
  {
   "cell_type": "code",
   "execution_count": 198,
   "metadata": {
    "colab": {
     "base_uri": "https://localhost:8080/",
     "height": 34
    },
    "colab_type": "code",
    "id": "_hAJ3kDkhBDP",
    "outputId": "d8bce2ec-9baa-4390-e534-4d29258fb734"
   },
   "outputs": [
    {
     "data": {
      "text/plain": [
       "(198165, 1)"
      ]
     },
     "execution_count": 198,
     "metadata": {
      "tags": []
     },
     "output_type": "execute_result"
    }
   ],
   "source": [
    "target_sequence_train.shape"
   ]
  },
  {
   "cell_type": "code",
   "execution_count": null,
   "metadata": {
    "colab": {},
    "colab_type": "code",
    "id": "K5qTvTTPhBDR"
   },
   "outputs": [],
   "source": [
    "# np.expand_dims(target_sequenddce_train,1).shape"
   ]
  },
  {
   "cell_type": "code",
   "execution_count": null,
   "metadata": {
    "colab": {},
    "colab_type": "code",
    "id": "V5mYLcMjhBDT"
   },
   "outputs": [],
   "source": [
    "# use_sequence_train = np.expand_dims(np.array(use_sequence_train),2)"
   ]
  },
  {
   "cell_type": "code",
   "execution_count": 199,
   "metadata": {
    "colab": {},
    "colab_type": "code",
    "id": "2gIOWnL0hBDU"
   },
   "outputs": [],
   "source": [
    "use_sequence_valid = [i for i in use_sequence_valid for j in range(3)]"
   ]
  },
  {
   "cell_type": "code",
   "execution_count": null,
   "metadata": {
    "colab": {},
    "colab_type": "code",
    "id": "92pSn40LhBDW"
   },
   "outputs": [],
   "source": [
    "# use_sequence_valid = np.expand_dims(np.array(use_sequence_valid),2)"
   ]
  },
  {
   "cell_type": "code",
   "execution_count": 200,
   "metadata": {
    "colab": {},
    "colab_type": "code",
    "id": "keHADlQdhBDX"
   },
   "outputs": [],
   "source": [
    "use_sequence_valid = np.array(use_sequence_valid)"
   ]
  },
  {
   "cell_type": "code",
   "execution_count": 201,
   "metadata": {
    "colab": {
     "base_uri": "https://localhost:8080/",
     "height": 34
    },
    "colab_type": "code",
    "id": "SjaBOsxMhBDZ",
    "outputId": "d9cedf5b-2d91-45f6-ec5a-ec79b91fba45"
   },
   "outputs": [
    {
     "data": {
      "text/plain": [
       "(10431, 10)"
      ]
     },
     "execution_count": 201,
     "metadata": {
      "tags": []
     },
     "output_type": "execute_result"
    }
   ],
   "source": [
    "use_sequence_valid.shape"
   ]
  },
  {
   "cell_type": "code",
   "execution_count": 202,
   "metadata": {
    "colab": {
     "base_uri": "https://localhost:8080/",
     "height": 34
    },
    "colab_type": "code",
    "id": "ghBuKuxkhBDa",
    "outputId": "425d47de-49df-4bfa-b20f-65013a834bf8"
   },
   "outputs": [
    {
     "data": {
      "text/plain": [
       "(10431, 10)"
      ]
     },
     "execution_count": 202,
     "metadata": {
      "tags": []
     },
     "output_type": "execute_result"
    }
   ],
   "source": [
    "use_sequence_valid.shape"
   ]
  },
  {
   "cell_type": "code",
   "execution_count": 203,
   "metadata": {
    "colab": {},
    "colab_type": "code",
    "id": "Fc1xQrELhBDb"
   },
   "outputs": [],
   "source": [
    "target_sequence_valid = [[j] for i in target_sequence_valid for j in i]\n",
    "\n"
   ]
  },
  {
   "cell_type": "code",
   "execution_count": 204,
   "metadata": {
    "colab": {},
    "colab_type": "code",
    "id": "Ul1IgDk5hBDe"
   },
   "outputs": [],
   "source": [
    "target_sequence_valid = np.array(target_sequence_valid)"
   ]
  },
  {
   "cell_type": "code",
   "execution_count": 205,
   "metadata": {
    "colab": {
     "base_uri": "https://localhost:8080/",
     "height": 34
    },
    "colab_type": "code",
    "id": "mZKMidNbhBDh",
    "outputId": "aa2d97b4-8baa-4ba7-8c80-b59d7326283e"
   },
   "outputs": [
    {
     "data": {
      "text/plain": [
       "(10431, 1)"
      ]
     },
     "execution_count": 205,
     "metadata": {
      "tags": []
     },
     "output_type": "execute_result"
    }
   ],
   "source": [
    "target_sequence_valid.shape"
   ]
  },
  {
   "cell_type": "code",
   "execution_count": null,
   "metadata": {
    "colab": {},
    "colab_type": "code",
    "id": "FJftOBgRhBDi"
   },
   "outputs": [],
   "source": [
    "# use_sequence_train = np.concatenate((use_sequence_train,use_sequence_train)).astype(\"float32\")"
   ]
  },
  {
   "cell_type": "code",
   "execution_count": null,
   "metadata": {
    "colab": {},
    "colab_type": "code",
    "id": "NTczlNp5hBDk"
   },
   "outputs": [],
   "source": [
    "# one_hot_encoded_targets_array = np.concatenate((one_hot_encoded_targets_array,one_hot_encoded_targets_array)).astype(\"float32\")"
   ]
  },
  {
   "cell_type": "code",
   "execution_count": 206,
   "metadata": {
    "colab": {},
    "colab_type": "code",
    "id": "5QWadYBshBDm"
   },
   "outputs": [],
   "source": [
    "es_callback = EarlyStopping(monitor=\"val_loss\", patience=2)"
   ]
  },
  {
   "cell_type": "code",
   "execution_count": 207,
   "metadata": {
    "colab": {
     "base_uri": "https://localhost:8080/",
     "height": 34
    },
    "colab_type": "code",
    "id": "EId6kM1BhBDo",
    "outputId": "20a6680b-82e3-4dc1-db75-af146afd1217"
   },
   "outputs": [
    {
     "data": {
      "text/plain": [
       "(198165, 10)"
      ]
     },
     "execution_count": 207,
     "metadata": {
      "tags": []
     },
     "output_type": "execute_result"
    }
   ],
   "source": [
    "use_sequence_train.shape"
   ]
  },
  {
   "cell_type": "code",
   "execution_count": 208,
   "metadata": {
    "colab": {},
    "colab_type": "code",
    "id": "I_MPOVLypHx9"
   },
   "outputs": [],
   "source": [
    "use_sequence_train = np.concatenate((use_sequence_train,use_sequence_train,use_sequence_train))"
   ]
  },
  {
   "cell_type": "code",
   "execution_count": 209,
   "metadata": {
    "colab": {},
    "colab_type": "code",
    "id": "IifR27z5pMwd"
   },
   "outputs": [],
   "source": [
    "target_sequence_train = np.concatenate((target_sequence_train,target_sequence_train,target_sequence_train))"
   ]
  },
  {
   "cell_type": "code",
   "execution_count": 210,
   "metadata": {
    "colab": {
     "base_uri": "https://localhost:8080/",
     "height": 34
    },
    "colab_type": "code",
    "id": "8U0b2xNUhBDq",
    "outputId": "43114622-50e7-4396-9bff-e4a4b7fab52f"
   },
   "outputs": [
    {
     "data": {
      "text/plain": [
       "(594495, 1)"
      ]
     },
     "execution_count": 210,
     "metadata": {
      "tags": []
     },
     "output_type": "execute_result"
    }
   ],
   "source": [
    "target_sequence_train.shape"
   ]
  },
  {
   "cell_type": "code",
   "execution_count": 211,
   "metadata": {
    "colab": {
     "base_uri": "https://localhost:8080/",
     "height": 34
    },
    "colab_type": "code",
    "id": "S5Zsa0ykhBDr",
    "outputId": "fe9f8e37-62a8-415f-f3ea-0b13244198d9"
   },
   "outputs": [
    {
     "data": {
      "text/plain": [
       "(594495, 1)"
      ]
     },
     "execution_count": 211,
     "metadata": {
      "tags": []
     },
     "output_type": "execute_result"
    }
   ],
   "source": [
    "target_sequence_train.shape"
   ]
  },
  {
   "cell_type": "code",
   "execution_count": 212,
   "metadata": {
    "colab": {},
    "colab_type": "code",
    "id": "CCf6jS9AhBDs"
   },
   "outputs": [],
   "source": [
    "model = models.Sequential()\n",
    "model.add(layers.Embedding(input_dim=len(le.classes_), output_dim=1280, input_length=10))\n",
    "model.add(layers.BatchNormalization())\n",
    "# model.add(layers.Dropout(0.5))\n",
    "# model.add(layers.LSTM(512, dropout=0.1, recurrent_dropout=0.5))\n",
    "model.add(layers.Bidirectional(layers.LSTM(758, dropout=0.1, recurrent_dropout=0.5, return_sequences = False)))\n",
    "# model.add(layers.BatchNormalization())\n",
    "# model.add(layers.Dropout(0.5))\n",
    "# model.add(layers.Bidirectional(layers.LSTM(units=256, dropout=0.1, recurrent_dropout=0.5, return_sequences =False)))\n",
    "# model.add(layers.BatchNormalization())\n",
    "model.add(layers.Dropout(0.5))\n",
    "# model.add(layers.Bidirectional(layers.GRU(units=256, dropout=0.1, recurrent_dropout=0.5)))\n",
    "# model.add(layers.BatchNormalization())\n",
    "# model.add(layers.Dropout(0.5))\n",
    "# model.add(layers.Dense(512))\n",
    "# model.add(layers.BatchNormalization())\n",
    "# model.add(layers.Dropout(0.5))\n",
    "# model.add(layers.Dense(1024))\n",
    "# model.add(layers.BatchNormalization())\n",
    "# model.add(layers.Dropout(0.5))\n",
    "# model.add(layers.Dense(1024))\n",
    "# model.add(layers.BatchNormalization())\n",
    "# model.add(layers.Dropout(0.5))\n",
    "# model.add(layers.BatchNormalization())\n",
    "model.add(layers.Dense(len(le.classes_), activation='softmax'))\n",
    "opt = optimizers.Adam(lr=0.0001)\n",
    "# opt = optimizers.RMSprop(lr=0.0001)\n",
    "model.compile(loss='sparse_categorical_crossentropy', \n",
    "              optimizer=opt)"
   ]
  },
  {
   "cell_type": "code",
   "execution_count": 213,
   "metadata": {
    "colab": {},
    "colab_type": "code",
    "id": "DUU73FePhBDu"
   },
   "outputs": [],
   "source": [
    "es_callback = EarlyStopping(monitor=\"val_loss\", patience=2, restore_best_weights = True)"
   ]
  },
  {
   "cell_type": "code",
   "execution_count": 214,
   "metadata": {
    "colab": {
     "base_uri": "https://localhost:8080/",
     "height": 527
    },
    "colab_type": "code",
    "id": "92AO8kXvhBDv",
    "outputId": "b3ee4622-2961-4379-8f40-7a333a8c661b"
   },
   "outputs": [
    {
     "name": "stderr",
     "output_type": "stream",
     "text": [
      "/usr/local/lib/python3.6/dist-packages/tensorflow/python/framework/indexed_slices.py:434: UserWarning: Converting sparse IndexedSlices to a dense Tensor of unknown shape. This may consume a large amount of memory.\n",
      "  \"Converting sparse IndexedSlices to a dense Tensor of unknown shape. \"\n"
     ]
    },
    {
     "name": "stdout",
     "output_type": "stream",
     "text": [
      "Train on 594495 samples, validate on 10431 samples\n",
      "Epoch 1/2000\n",
      "594495/594495 [==============================] - 300s 504us/step - loss: 5.7603 - val_loss: 4.9308\n",
      "Epoch 2/2000\n",
      "594495/594495 [==============================] - 299s 503us/step - loss: 4.4992 - val_loss: 4.5026\n",
      "Epoch 3/2000\n",
      "594495/594495 [==============================] - 299s 503us/step - loss: 4.0542 - val_loss: 4.3507\n",
      "Epoch 4/2000\n",
      "594495/594495 [==============================] - 299s 503us/step - loss: 3.7369 - val_loss: 4.2721\n",
      "Epoch 5/2000\n",
      "594495/594495 [==============================] - 299s 503us/step - loss: 3.4912 - val_loss: 4.2226\n",
      "Epoch 6/2000\n",
      "594495/594495 [==============================] - 299s 503us/step - loss: 3.2922 - val_loss: 4.1947\n",
      "Epoch 7/2000\n",
      "594495/594495 [==============================] - 299s 503us/step - loss: 3.1307 - val_loss: 4.1811\n",
      "Epoch 8/2000\n",
      "594495/594495 [==============================] - 299s 503us/step - loss: 2.9976 - val_loss: 4.1773\n",
      "Epoch 9/2000\n",
      "594495/594495 [==============================] - 300s 504us/step - loss: 2.8826 - val_loss: 4.1751\n",
      "Epoch 10/2000\n",
      "594495/594495 [==============================] - 299s 503us/step - loss: 2.7825 - val_loss: 4.1747\n",
      "Epoch 11/2000\n",
      "594495/594495 [==============================] - 299s 503us/step - loss: 2.6948 - val_loss: 4.1737\n",
      "Epoch 12/2000\n",
      "594495/594495 [==============================] - 299s 503us/step - loss: 2.6210 - val_loss: 4.1807\n",
      "Epoch 13/2000\n",
      "594495/594495 [==============================] - 299s 503us/step - loss: 2.5537 - val_loss: 4.1917\n"
     ]
    },
    {
     "data": {
      "text/plain": [
       "<keras.callbacks.callbacks.History at 0x7ff962e865f8>"
      ]
     },
     "execution_count": 214,
     "metadata": {
      "tags": []
     },
     "output_type": "execute_result"
    }
   ],
   "source": [
    "model.fit(use_sequence_train, target_sequence_train,epochs=2000,batch_size=1024,\n",
    "          validation_data=(use_sequence_valid, target_sequence_valid), \n",
    "         callbacks = [es_callback], shuffle=True)"
   ]
  },
  {
   "cell_type": "code",
   "execution_count": 215,
   "metadata": {
    "colab": {
     "base_uri": "https://localhost:8080/",
     "height": 122
    },
    "colab_type": "code",
    "id": "OWzVDj487o2l",
    "outputId": "381bf0b7-7dd8-4d13-b0f7-3ce078af184f"
   },
   "outputs": [
    {
     "name": "stdout",
     "output_type": "stream",
     "text": [
      "Go to this URL in a browser: https://accounts.google.com/o/oauth2/auth?client_id=947318989803-6bn6qk8qdgf4n4g3pfee6491hc0brc4i.apps.googleusercontent.com&redirect_uri=urn%3aietf%3awg%3aoauth%3a2.0%3aoob&response_type=code&scope=email%20https%3a%2f%2fwww.googleapis.com%2fauth%2fdocs.test%20https%3a%2f%2fwww.googleapis.com%2fauth%2fdrive%20https%3a%2f%2fwww.googleapis.com%2fauth%2fdrive.photos.readonly%20https%3a%2f%2fwww.googleapis.com%2fauth%2fpeopleapi.readonly\n",
      "\n",
      "Enter your authorization code:\n",
      "··········\n",
      "Mounted at /content/gdrive\n"
     ]
    }
   ],
   "source": [
    "from google.colab import drive\n",
    "drive.mount('/content/gdrive')"
   ]
  },
  {
   "cell_type": "code",
   "execution_count": 216,
   "metadata": {
    "colab": {},
    "colab_type": "code",
    "id": "gNowoPdH7_vj"
   },
   "outputs": [],
   "source": [
    "model.save(\"/content/gdrive/My Drive/best_so_far_with_shuffle_gayara.h5\")"
   ]
  },
  {
   "cell_type": "code",
   "execution_count": null,
   "metadata": {
    "colab": {},
    "colab_type": "code",
    "id": "VbnJC_4V8JMN"
   },
   "outputs": [],
   "source": []
  },
  {
   "cell_type": "code",
   "execution_count": null,
   "metadata": {
    "colab": {},
    "colab_type": "code",
    "id": "YH52c3GhhBDw"
   },
   "outputs": [],
   "source": [
    "model.save(r\"D:\\AV_Rec_Sys\\best_so_far_with_shuffle.h5\")"
   ]
  },
  {
   "cell_type": "code",
   "execution_count": 234,
   "metadata": {
    "colab": {},
    "colab_type": "code",
    "id": "tnIeiFTbhBDx"
   },
   "outputs": [],
   "source": [
    "es_callback = EarlyStopping(monitor=\"val_loss\", patience=2, restore_best_weights = True)"
   ]
  },
  {
   "cell_type": "code",
   "execution_count": 238,
   "metadata": {
    "colab": {},
    "colab_type": "code",
    "id": "pEMPBAvHhBDy"
   },
   "outputs": [],
   "source": [
    "opt = optimizers.Adam(lr=0.00001)\n",
    "model.compile(loss='sparse_categorical_crossentropy', \n",
    "              optimizer=opt,\n",
    "              metrics=['accuracy'])"
   ]
  },
  {
   "cell_type": "code",
   "execution_count": 239,
   "metadata": {
    "colab": {
     "base_uri": "https://localhost:8080/",
     "height": 187
    },
    "colab_type": "code",
    "id": "JWDTCJiDhBDz",
    "outputId": "77ca6a96-d0db-431b-9eda-aef8f2c8d1cb"
   },
   "outputs": [
    {
     "name": "stderr",
     "output_type": "stream",
     "text": [
      "/usr/local/lib/python3.6/dist-packages/tensorflow/python/framework/indexed_slices.py:434: UserWarning: Converting sparse IndexedSlices to a dense Tensor of unknown shape. This may consume a large amount of memory.\n",
      "  \"Converting sparse IndexedSlices to a dense Tensor of unknown shape. \"\n"
     ]
    },
    {
     "name": "stdout",
     "output_type": "stream",
     "text": [
      "Train on 594495 samples, validate on 10431 samples\n",
      "Epoch 1/2000\n",
      "594495/594495 [==============================] - 316s 531us/step - loss: 2.5897 - accuracy: 0.2519 - val_loss: 4.1695 - val_accuracy: 0.1350\n",
      "Epoch 2/2000\n",
      "594495/594495 [==============================] - 315s 529us/step - loss: 2.5741 - accuracy: 0.2536 - val_loss: 4.1706 - val_accuracy: 0.1355\n",
      "Epoch 3/2000\n",
      "594495/594495 [==============================] - 315s 530us/step - loss: 2.5622 - accuracy: 0.2545 - val_loss: 4.1714 - val_accuracy: 0.1358\n"
     ]
    },
    {
     "data": {
      "text/plain": [
       "<keras.callbacks.callbacks.History at 0x7ff9586a6f60>"
      ]
     },
     "execution_count": 239,
     "metadata": {
      "tags": []
     },
     "output_type": "execute_result"
    }
   ],
   "source": [
    "model.fit(use_sequence_train, target_sequence_train,epochs=2000,batch_size=1024,\n",
    "          validation_data=(use_sequence_valid, target_sequence_valid), \n",
    "         callbacks = [es_callback], shuffle=True)"
   ]
  },
  {
   "cell_type": "code",
   "execution_count": 240,
   "metadata": {
    "colab": {},
    "colab_type": "code",
    "id": "FjnUjVuZhBD0"
   },
   "outputs": [],
   "source": [
    "model.save(r\"D:\\AV_Rec_Sys\\best_so_far_with_shuffle_lr_gayara_1.h5\")"
   ]
  },
  {
   "cell_type": "code",
   "execution_count": null,
   "metadata": {
    "colab": {},
    "colab_type": "code",
    "id": "bn5d4TPIhBD1"
   },
   "outputs": [],
   "source": [
    "es_callback = EarlyStopping(monitor=\"val_loss\", patience=2, restore_best_weights = True)"
   ]
  },
  {
   "cell_type": "code",
   "execution_count": null,
   "metadata": {
    "colab": {},
    "colab_type": "code",
    "id": "qMCdqxa8hBD2"
   },
   "outputs": [],
   "source": [
    "# model.fit(use_sequence_train, one_hot_encoded_targets_array,epochs=20,batch_size=256,\n",
    "#           validation_data=(use_sequence_valid, one_hot_encoded_targets_array_valid), \n",
    "#          callbacks = [es_callback], shuffle=True)"
   ]
  },
  {
   "cell_type": "code",
   "execution_count": null,
   "metadata": {
    "colab": {},
    "colab_type": "code",
    "id": "t5U62p8xhBD4"
   },
   "outputs": [],
   "source": [
    "# model.save(r\"D:\\AV_Rec_Sys\\best_so_far_with_shuffle_lr_best_weights.h5\")"
   ]
  },
  {
   "cell_type": "code",
   "execution_count": null,
   "metadata": {
    "colab": {},
    "colab_type": "code",
    "id": "iaRvQMQzhBD5"
   },
   "outputs": [],
   "source": [
    "model = keras.models.load_model(r\"D:\\AV_Rec_Sys\\best_so_far_with_shuffle_final_on_valid.h5\")"
   ]
  },
  {
   "cell_type": "code",
   "execution_count": null,
   "metadata": {
    "colab": {},
    "colab_type": "code",
    "id": "ZrwxzVyXhBD7"
   },
   "outputs": [],
   "source": [
    "# model.fit(use_sequence_valid, one_hot_encoded_targets_array_valid,epochs=2,batch_size=256, shuffle=True)"
   ]
  },
  {
   "cell_type": "code",
   "execution_count": null,
   "metadata": {
    "colab": {},
    "colab_type": "code",
    "id": "VCjp43-ihBD8"
   },
   "outputs": [],
   "source": [
    "model.save(r\"D:\\AV_Rec_Sys\\best_so_far_with_shuffle_final_on_valid.h5\")"
   ]
  },
  {
   "cell_type": "code",
   "execution_count": null,
   "metadata": {
    "colab": {},
    "colab_type": "code",
    "id": "Ps8uX_G1hBD9"
   },
   "outputs": [],
   "source": [
    "# model.fit(use_sequence_valid, one_hot_encoded_targets_array_valid,epochs=5,batch_size=256 )"
   ]
  },
  {
   "cell_type": "code",
   "execution_count": null,
   "metadata": {
    "colab": {},
    "colab_type": "code",
    "id": "d_NgGycqhBD-"
   },
   "outputs": [],
   "source": [
    "model = keras.models.load_model(r\"D:\\AV_Rec_Sys\\best_so_far_with_shuffle_lr.h5\")"
   ]
  },
  {
   "cell_type": "code",
   "execution_count": null,
   "metadata": {
    "colab": {},
    "colab_type": "code",
    "id": "45cuvZfshBD_"
   },
   "outputs": [],
   "source": [
    "model = keras.models.load_model(r\"D:\\AV_Rec_Sys\\best_so_far_with_shuffle_final_on_valid.h5\")"
   ]
  },
  {
   "cell_type": "code",
   "execution_count": null,
   "metadata": {
    "colab": {},
    "colab_type": "code",
    "id": "8C6YmN3OhBEB"
   },
   "outputs": [],
   "source": [
    "pred_proba = model.predict(np.array(use_sequence_valid))"
   ]
  },
  {
   "cell_type": "code",
   "execution_count": null,
   "metadata": {
    "colab": {},
    "colab_type": "code",
    "id": "IQHrJEFQhBEC"
   },
   "outputs": [],
   "source": [
    "pred_proba"
   ]
  },
  {
   "cell_type": "code",
   "execution_count": null,
   "metadata": {
    "colab": {},
    "colab_type": "code",
    "id": "ehiG-Lc9hBED"
   },
   "outputs": [],
   "source": [
    "pred_proba.shape"
   ]
  },
  {
   "cell_type": "code",
   "execution_count": null,
   "metadata": {
    "colab": {},
    "colab_type": "code",
    "id": "vGKuzR6mhBEE"
   },
   "outputs": [],
   "source": [
    "preds = pred_proba.argsort(axis = 1)[:,-3:][:,::-1]"
   ]
  },
  {
   "cell_type": "code",
   "execution_count": null,
   "metadata": {
    "colab": {},
    "colab_type": "code",
    "id": "PmLII-eihBEF"
   },
   "outputs": [],
   "source": [
    "preds = [i.tolist() for i in preds]"
   ]
  },
  {
   "cell_type": "code",
   "execution_count": null,
   "metadata": {
    "colab": {},
    "colab_type": "code",
    "id": "80UMk5MEhBEH"
   },
   "outputs": [],
   "source": [
    "mapk(target_sequence_valid, preds)"
   ]
  },
  {
   "cell_type": "code",
   "execution_count": 241,
   "metadata": {
    "colab": {
     "base_uri": "https://localhost:8080/",
     "height": 419
    },
    "colab_type": "code",
    "id": "04Cdz1VlhBEJ",
    "outputId": "429871f3-5aa7-4376-d40f-2be59e4c38d0"
   },
   "outputs": [
    {
     "data": {
      "text/html": [
       "<div>\n",
       "<style scoped>\n",
       "    .dataframe tbody tr th:only-of-type {\n",
       "        vertical-align: middle;\n",
       "    }\n",
       "\n",
       "    .dataframe tbody tr th {\n",
       "        vertical-align: top;\n",
       "    }\n",
       "\n",
       "    .dataframe thead th {\n",
       "        text-align: right;\n",
       "    }\n",
       "</style>\n",
       "<table border=\"1\" class=\"dataframe\">\n",
       "  <thead>\n",
       "    <tr style=\"text-align: right;\">\n",
       "      <th></th>\n",
       "      <th>user_sequence</th>\n",
       "      <th>user_id</th>\n",
       "      <th>challenge_sequence</th>\n",
       "      <th>challenge</th>\n",
       "    </tr>\n",
       "  </thead>\n",
       "  <tbody>\n",
       "    <tr>\n",
       "      <th>0</th>\n",
       "      <td>4577_1</td>\n",
       "      <td>4577</td>\n",
       "      <td>1</td>\n",
       "      <td>374</td>\n",
       "    </tr>\n",
       "    <tr>\n",
       "      <th>1</th>\n",
       "      <td>4577_2</td>\n",
       "      <td>4577</td>\n",
       "      <td>2</td>\n",
       "      <td>451</td>\n",
       "    </tr>\n",
       "    <tr>\n",
       "      <th>2</th>\n",
       "      <td>4577_3</td>\n",
       "      <td>4577</td>\n",
       "      <td>3</td>\n",
       "      <td>1421</td>\n",
       "    </tr>\n",
       "    <tr>\n",
       "      <th>3</th>\n",
       "      <td>4577_4</td>\n",
       "      <td>4577</td>\n",
       "      <td>4</td>\n",
       "      <td>1419</td>\n",
       "    </tr>\n",
       "    <tr>\n",
       "      <th>4</th>\n",
       "      <td>4577_5</td>\n",
       "      <td>4577</td>\n",
       "      <td>5</td>\n",
       "      <td>233</td>\n",
       "    </tr>\n",
       "    <tr>\n",
       "      <th>...</th>\n",
       "      <td>...</td>\n",
       "      <td>...</td>\n",
       "      <td>...</td>\n",
       "      <td>...</td>\n",
       "    </tr>\n",
       "    <tr>\n",
       "      <th>397315</th>\n",
       "      <td>113838_6</td>\n",
       "      <td>113838</td>\n",
       "      <td>6</td>\n",
       "      <td>210</td>\n",
       "    </tr>\n",
       "    <tr>\n",
       "      <th>397316</th>\n",
       "      <td>113838_7</td>\n",
       "      <td>113838</td>\n",
       "      <td>7</td>\n",
       "      <td>655</td>\n",
       "    </tr>\n",
       "    <tr>\n",
       "      <th>397317</th>\n",
       "      <td>113838_8</td>\n",
       "      <td>113838</td>\n",
       "      <td>8</td>\n",
       "      <td>233</td>\n",
       "    </tr>\n",
       "    <tr>\n",
       "      <th>397318</th>\n",
       "      <td>113838_9</td>\n",
       "      <td>113838</td>\n",
       "      <td>9</td>\n",
       "      <td>1039</td>\n",
       "    </tr>\n",
       "    <tr>\n",
       "      <th>397319</th>\n",
       "      <td>113838_10</td>\n",
       "      <td>113838</td>\n",
       "      <td>10</td>\n",
       "      <td>131</td>\n",
       "    </tr>\n",
       "  </tbody>\n",
       "</table>\n",
       "<p>397320 rows × 4 columns</p>\n",
       "</div>"
      ],
      "text/plain": [
       "       user_sequence  user_id  challenge_sequence  challenge\n",
       "0             4577_1     4577                   1        374\n",
       "1             4577_2     4577                   2        451\n",
       "2             4577_3     4577                   3       1421\n",
       "3             4577_4     4577                   4       1419\n",
       "4             4577_5     4577                   5        233\n",
       "...              ...      ...                 ...        ...\n",
       "397315      113838_6   113838                   6        210\n",
       "397316      113838_7   113838                   7        655\n",
       "397317      113838_8   113838                   8        233\n",
       "397318      113838_9   113838                   9       1039\n",
       "397319     113838_10   113838                  10        131\n",
       "\n",
       "[397320 rows x 4 columns]"
      ]
     },
     "execution_count": 241,
     "metadata": {
      "tags": []
     },
     "output_type": "execute_result"
    }
   ],
   "source": [
    "test"
   ]
  },
  {
   "cell_type": "code",
   "execution_count": 242,
   "metadata": {
    "colab": {
     "base_uri": "https://localhost:8080/",
     "height": 360
    },
    "colab_type": "code",
    "id": "WS-_gr-whBEJ",
    "outputId": "c074159f-c96d-4f3d-e3e2-5189739cd799"
   },
   "outputs": [
    {
     "name": "stderr",
     "output_type": "stream",
     "text": [
      "/usr/local/lib/python3.6/dist-packages/numpy/lib/arraysetops.py:565: FutureWarning: elementwise comparison failed; returning scalar instead, but in the future will perform elementwise comparison\n",
      "  mask &= (ar1 != a)\n"
     ]
    },
    {
     "ename": "ValueError",
     "evalue": "ignored",
     "output_type": "error",
     "traceback": [
      "\u001b[0;31m---------------------------------------------------------------------------\u001b[0m",
      "\u001b[0;31mValueError\u001b[0m                                Traceback (most recent call last)",
      "\u001b[0;32m<ipython-input-242-3f58aa103841>\u001b[0m in \u001b[0;36m<module>\u001b[0;34m()\u001b[0m\n\u001b[0;32m----> 1\u001b[0;31m \u001b[0mtest\u001b[0m\u001b[0;34m[\u001b[0m\u001b[0;34m\"challenge\"\u001b[0m\u001b[0;34m]\u001b[0m \u001b[0;34m=\u001b[0m \u001b[0mle\u001b[0m\u001b[0;34m.\u001b[0m\u001b[0mtransform\u001b[0m\u001b[0;34m(\u001b[0m\u001b[0mtest\u001b[0m\u001b[0;34m[\u001b[0m\u001b[0;34m\"challenge\"\u001b[0m\u001b[0;34m]\u001b[0m\u001b[0;34m)\u001b[0m\u001b[0;34m\u001b[0m\u001b[0;34m\u001b[0m\u001b[0m\n\u001b[0m",
      "\u001b[0;32m/usr/local/lib/python3.6/dist-packages/sklearn/preprocessing/_label.py\u001b[0m in \u001b[0;36mtransform\u001b[0;34m(self, y)\u001b[0m\n\u001b[1;32m    271\u001b[0m             \u001b[0;32mreturn\u001b[0m \u001b[0mnp\u001b[0m\u001b[0;34m.\u001b[0m\u001b[0marray\u001b[0m\u001b[0;34m(\u001b[0m\u001b[0;34m[\u001b[0m\u001b[0;34m]\u001b[0m\u001b[0;34m)\u001b[0m\u001b[0;34m\u001b[0m\u001b[0;34m\u001b[0m\u001b[0m\n\u001b[1;32m    272\u001b[0m \u001b[0;34m\u001b[0m\u001b[0m\n\u001b[0;32m--> 273\u001b[0;31m         \u001b[0m_\u001b[0m\u001b[0;34m,\u001b[0m \u001b[0my\u001b[0m \u001b[0;34m=\u001b[0m \u001b[0m_encode\u001b[0m\u001b[0;34m(\u001b[0m\u001b[0my\u001b[0m\u001b[0;34m,\u001b[0m \u001b[0muniques\u001b[0m\u001b[0;34m=\u001b[0m\u001b[0mself\u001b[0m\u001b[0;34m.\u001b[0m\u001b[0mclasses_\u001b[0m\u001b[0;34m,\u001b[0m \u001b[0mencode\u001b[0m\u001b[0;34m=\u001b[0m\u001b[0;32mTrue\u001b[0m\u001b[0;34m)\u001b[0m\u001b[0;34m\u001b[0m\u001b[0;34m\u001b[0m\u001b[0m\n\u001b[0m\u001b[1;32m    274\u001b[0m         \u001b[0;32mreturn\u001b[0m \u001b[0my\u001b[0m\u001b[0;34m\u001b[0m\u001b[0;34m\u001b[0m\u001b[0m\n\u001b[1;32m    275\u001b[0m \u001b[0;34m\u001b[0m\u001b[0m\n",
      "\u001b[0;32m/usr/local/lib/python3.6/dist-packages/sklearn/preprocessing/_label.py\u001b[0m in \u001b[0;36m_encode\u001b[0;34m(values, uniques, encode, check_unknown)\u001b[0m\n\u001b[1;32m    116\u001b[0m     \u001b[0;32melse\u001b[0m\u001b[0;34m:\u001b[0m\u001b[0;34m\u001b[0m\u001b[0;34m\u001b[0m\u001b[0m\n\u001b[1;32m    117\u001b[0m         return _encode_numpy(values, uniques, encode,\n\u001b[0;32m--> 118\u001b[0;31m                              check_unknown=check_unknown)\n\u001b[0m\u001b[1;32m    119\u001b[0m \u001b[0;34m\u001b[0m\u001b[0m\n\u001b[1;32m    120\u001b[0m \u001b[0;34m\u001b[0m\u001b[0m\n",
      "\u001b[0;32m/usr/local/lib/python3.6/dist-packages/sklearn/preprocessing/_label.py\u001b[0m in \u001b[0;36m_encode_numpy\u001b[0;34m(values, uniques, encode, check_unknown)\u001b[0m\n\u001b[1;32m     48\u001b[0m             \u001b[0;32mif\u001b[0m \u001b[0mdiff\u001b[0m\u001b[0;34m:\u001b[0m\u001b[0;34m\u001b[0m\u001b[0;34m\u001b[0m\u001b[0m\n\u001b[1;32m     49\u001b[0m                 raise ValueError(\"y contains previously unseen labels: %s\"\n\u001b[0;32m---> 50\u001b[0;31m                                  % str(diff))\n\u001b[0m\u001b[1;32m     51\u001b[0m         \u001b[0mencoded\u001b[0m \u001b[0;34m=\u001b[0m \u001b[0mnp\u001b[0m\u001b[0;34m.\u001b[0m\u001b[0msearchsorted\u001b[0m\u001b[0;34m(\u001b[0m\u001b[0muniques\u001b[0m\u001b[0;34m,\u001b[0m \u001b[0mvalues\u001b[0m\u001b[0;34m)\u001b[0m\u001b[0;34m\u001b[0m\u001b[0;34m\u001b[0m\u001b[0m\n\u001b[1;32m     52\u001b[0m         \u001b[0;32mreturn\u001b[0m \u001b[0muniques\u001b[0m\u001b[0;34m,\u001b[0m \u001b[0mencoded\u001b[0m\u001b[0;34m\u001b[0m\u001b[0;34m\u001b[0m\u001b[0m\n",
      "\u001b[0;31mValueError\u001b[0m: y contains previously unseen labels: [0, 1, 4, 5, 6, 7, 8, 9, 14, 15, 16, 17, 18, 19, 20, 25, 26, 27, 28, 30, 31, 32, 33, 34, 35, 36, 37, 38, 39, 40, 41, 43, 44, 45, 46, 47, 48, 51, 53, 54, 55, 56, 57, 58, 59, 60, 61, 62, 63, 64, 66, 67, 68, 70, 71, 72, 73, 75, 76, 77, 78, 79, 80, 82, 84, 86, 87, 88, 89, 90, 91, 93, 94, 95, 96, 97, 98, 99, 100, 101, 102, 104, 105, 106, 107, 109, 110, 111, 113, 114, 115, 117, 119, 122, 123, 124, 125, 127, 128, 129, 131, 132, 133, 134, 135, 136, 137, 138, 139, 140, 141, 142, 143, 144, 145, 146, 147, 148, 149, 150, 151, 152, 154, 155, 156, 157, 158, 159, 160, 161, 162, 163, 164, 165, 166, 167, 168, 169, 170, 171, 172, 173, 174, 175, 176, 177, 178, 179, 180, 181, 182, 183, 184, 185, 186, 187, 188, 189, 190, 191, 192, 193, 194, 195, 196, 197, 198, 202, 203, 204, 205, 206, 207, 208, 209, 210, 211, 212, 213, 214, 215, 216, 217, 218, 219, 220, 221, 222, 223, 224, 225, 227, 228, 229, 230, 231, 232, 233, 234, 235, 237, 238, 239, 240, 241, 242, 243, 244, 245, 246, 247, 248, 249, 250, 251, 252, 253, 254, 255, 256, 257, 258, 259, 260, 261, 262, 263, 264, 265, 266, 267, 268, 269, 270, 271, 272, 273, 274, 275, 276, 277, 279, 280, 281, 282, 283, 284, 285, 286, 287, 288, 289, 290, 291, 292, 293, 294, 295, 297, 298, 299, 300, 301, 302, 303, 304, 305, 306, 307, 308, 309, 310, 311, 313, 314, 315, 316, 318, 319, 320, 321, 322, 323, 324, 325, 326, 327, 328, 329, 330, 331, 332, 333, 334, 336, 337, 338, 339, 340, 341, 342, 343, 344, 345, 34..."
     ]
    }
   ],
   "source": [
    "test[\"challenge\"] = le.transform(test[\"challenge\"])"
   ]
  },
  {
   "cell_type": "code",
   "execution_count": 243,
   "metadata": {
    "colab": {
     "base_uri": "https://localhost:8080/",
     "height": 204
    },
    "colab_type": "code",
    "id": "iXNi_92phBEL",
    "outputId": "852e15aa-3b9c-4d22-e055-344b070b5cfb"
   },
   "outputs": [
    {
     "data": {
      "text/html": [
       "<div>\n",
       "<style scoped>\n",
       "    .dataframe tbody tr th:only-of-type {\n",
       "        vertical-align: middle;\n",
       "    }\n",
       "\n",
       "    .dataframe tbody tr th {\n",
       "        vertical-align: top;\n",
       "    }\n",
       "\n",
       "    .dataframe thead th {\n",
       "        text-align: right;\n",
       "    }\n",
       "</style>\n",
       "<table border=\"1\" class=\"dataframe\">\n",
       "  <thead>\n",
       "    <tr style=\"text-align: right;\">\n",
       "      <th></th>\n",
       "      <th>user_sequence</th>\n",
       "      <th>user_id</th>\n",
       "      <th>challenge_sequence</th>\n",
       "      <th>challenge</th>\n",
       "    </tr>\n",
       "  </thead>\n",
       "  <tbody>\n",
       "    <tr>\n",
       "      <th>0</th>\n",
       "      <td>4577_1</td>\n",
       "      <td>4577</td>\n",
       "      <td>1</td>\n",
       "      <td>374</td>\n",
       "    </tr>\n",
       "    <tr>\n",
       "      <th>1</th>\n",
       "      <td>4577_2</td>\n",
       "      <td>4577</td>\n",
       "      <td>2</td>\n",
       "      <td>451</td>\n",
       "    </tr>\n",
       "    <tr>\n",
       "      <th>2</th>\n",
       "      <td>4577_3</td>\n",
       "      <td>4577</td>\n",
       "      <td>3</td>\n",
       "      <td>1421</td>\n",
       "    </tr>\n",
       "    <tr>\n",
       "      <th>3</th>\n",
       "      <td>4577_4</td>\n",
       "      <td>4577</td>\n",
       "      <td>4</td>\n",
       "      <td>1419</td>\n",
       "    </tr>\n",
       "    <tr>\n",
       "      <th>4</th>\n",
       "      <td>4577_5</td>\n",
       "      <td>4577</td>\n",
       "      <td>5</td>\n",
       "      <td>233</td>\n",
       "    </tr>\n",
       "  </tbody>\n",
       "</table>\n",
       "</div>"
      ],
      "text/plain": [
       "  user_sequence  user_id  challenge_sequence  challenge\n",
       "0        4577_1     4577                   1        374\n",
       "1        4577_2     4577                   2        451\n",
       "2        4577_3     4577                   3       1421\n",
       "3        4577_4     4577                   4       1419\n",
       "4        4577_5     4577                   5        233"
      ]
     },
     "execution_count": 243,
     "metadata": {
      "tags": []
     },
     "output_type": "execute_result"
    }
   ],
   "source": [
    "test.head()"
   ]
  },
  {
   "cell_type": "code",
   "execution_count": 244,
   "metadata": {
    "colab": {
     "base_uri": "https://localhost:8080/",
     "height": 66,
     "referenced_widgets": [
      "45bdce5b29b341909427028159e6c60a",
      "72884f68e0f4435294541b5fb8e7ff98",
      "20606b44956b44289b6571a8dd4bb7b9",
      "25d71c00c20f4d72b5ba086eb356ff05",
      "ef8117d009ef41d59950bbb02c47efea",
      "4fc4cbed287e4a60938fa165ed03ede7",
      "f288dcc2ff744946a4b3df5e571582f1",
      "0a6aa659133c424ca5ae27b00bccb250"
     ]
    },
    "colab_type": "code",
    "id": "d95OZo1qhBEM",
    "outputId": "d3a7b861-87a9-49ad-ebab-8d444a5f19a4"
   },
   "outputs": [
    {
     "data": {
      "application/vnd.jupyter.widget-view+json": {
       "model_id": "45bdce5b29b341909427028159e6c60a",
       "version_major": 2,
       "version_minor": 0
      },
      "text/plain": [
       "HBox(children=(FloatProgress(value=0.0, max=39732.0), HTML(value='')))"
      ]
     },
     "metadata": {
      "tags": []
     },
     "output_type": "display_data"
    },
    {
     "name": "stdout",
     "output_type": "stream",
     "text": [
      "\n"
     ]
    }
   ],
   "source": [
    "# prepare data \n",
    "\n",
    "catch = []\n",
    "for i in tqdm(np.unique(test[\"user_id\"])): \n",
    "    temp_data = test[test.user_id == i]\n",
    "    # get the items he or she has used\n",
    "    items_used = temp_data.challenge.tolist()\n",
    "    catch.append({\"user_id\": i, \"sequence_challenges\": items_used})"
   ]
  },
  {
   "cell_type": "code",
   "execution_count": 245,
   "metadata": {
    "colab": {},
    "colab_type": "code",
    "id": "ftETHfQChBEN"
   },
   "outputs": [],
   "source": [
    "test_sequence = pd.DataFrame(catch)"
   ]
  },
  {
   "cell_type": "code",
   "execution_count": 246,
   "metadata": {
    "colab": {
     "base_uri": "https://localhost:8080/",
     "height": 204
    },
    "colab_type": "code",
    "id": "ifa7y7qRhBEO",
    "outputId": "ce9e8448-917c-4964-abed-c449fed54ca3"
   },
   "outputs": [
    {
     "data": {
      "text/html": [
       "<div>\n",
       "<style scoped>\n",
       "    .dataframe tbody tr th:only-of-type {\n",
       "        vertical-align: middle;\n",
       "    }\n",
       "\n",
       "    .dataframe tbody tr th {\n",
       "        vertical-align: top;\n",
       "    }\n",
       "\n",
       "    .dataframe thead th {\n",
       "        text-align: right;\n",
       "    }\n",
       "</style>\n",
       "<table border=\"1\" class=\"dataframe\">\n",
       "  <thead>\n",
       "    <tr style=\"text-align: right;\">\n",
       "      <th></th>\n",
       "      <th>user_id</th>\n",
       "      <th>sequence_challenges</th>\n",
       "    </tr>\n",
       "  </thead>\n",
       "  <tbody>\n",
       "    <tr>\n",
       "      <th>0</th>\n",
       "      <td>4577</td>\n",
       "      <td>[374, 451, 1421, 1419, 233, 182, 1462, 1636, 2...</td>\n",
       "    </tr>\n",
       "    <tr>\n",
       "      <th>1</th>\n",
       "      <td>4578</td>\n",
       "      <td>[182, 374, 1421, 451, 493, 233, 1636, 1419, 14...</td>\n",
       "    </tr>\n",
       "    <tr>\n",
       "      <th>2</th>\n",
       "      <td>4579</td>\n",
       "      <td>[3421, 3422, 3423, 3424, 3425, 3426, 3427, 342...</td>\n",
       "    </tr>\n",
       "    <tr>\n",
       "      <th>3</th>\n",
       "      <td>4583</td>\n",
       "      <td>[182, 374, 493, 233, 367, 451, 1636, 300, 1039...</td>\n",
       "    </tr>\n",
       "    <tr>\n",
       "      <th>4</th>\n",
       "      <td>4584</td>\n",
       "      <td>[374, 493, 1636, 367, 233, 1421, 447, 2228, 16...</td>\n",
       "    </tr>\n",
       "  </tbody>\n",
       "</table>\n",
       "</div>"
      ],
      "text/plain": [
       "   user_id                                sequence_challenges\n",
       "0     4577  [374, 451, 1421, 1419, 233, 182, 1462, 1636, 2...\n",
       "1     4578  [182, 374, 1421, 451, 493, 233, 1636, 1419, 14...\n",
       "2     4579  [3421, 3422, 3423, 3424, 3425, 3426, 3427, 342...\n",
       "3     4583  [182, 374, 493, 233, 367, 451, 1636, 300, 1039...\n",
       "4     4584  [374, 493, 1636, 367, 233, 1421, 447, 2228, 16..."
      ]
     },
     "execution_count": 246,
     "metadata": {
      "tags": []
     },
     "output_type": "execute_result"
    }
   ],
   "source": [
    "test_sequence.head()"
   ]
  },
  {
   "cell_type": "code",
   "execution_count": 247,
   "metadata": {
    "colab": {},
    "colab_type": "code",
    "id": "Clw1bbn9hBER"
   },
   "outputs": [],
   "source": [
    "use_sequence_test = [i[:10] for i in test_sequence[\"sequence_challenges\"]]"
   ]
  },
  {
   "cell_type": "code",
   "execution_count": 248,
   "metadata": {
    "colab": {
     "base_uri": "https://localhost:8080/",
     "height": 34
    },
    "colab_type": "code",
    "id": "rh-EWH9ghBES",
    "outputId": "0a89790d-44ce-4d40-97b0-1dec6f110518"
   },
   "outputs": [
    {
     "data": {
      "text/plain": [
       "(39732, 10)"
      ]
     },
     "execution_count": 248,
     "metadata": {
      "tags": []
     },
     "output_type": "execute_result"
    }
   ],
   "source": [
    "np.array(use_sequence_test).shape"
   ]
  },
  {
   "cell_type": "code",
   "execution_count": 250,
   "metadata": {
    "colab": {},
    "colab_type": "code",
    "id": "n0CWZTSwhBET"
   },
   "outputs": [],
   "source": [
    "# test_sequence_temp.shape"
   ]
  },
  {
   "cell_type": "code",
   "execution_count": null,
   "metadata": {
    "colab": {},
    "colab_type": "code",
    "id": "yUUhLM-HhBEU"
   },
   "outputs": [],
   "source": [
    "# # write a function to use predictions to make further predictions\n",
    "\n",
    "# preds = []\n",
    "\n",
    "# for i,n in tqdm(enumerate(test_sequence.user_id)):\n",
    "#     preds_user = []\n",
    "#     test_sequence_temp = np.array(test_sequence[test_sequence.user_id == n][\"sequence_challenges\"].tolist())\n",
    "# #     tensor_obj = np.expand_dims(np.array(test_sequence_temp),0)\n",
    "#     first_pred_proba = model.predict(test_sequence_temp)\n",
    "#     preds_test_1 = first_pred_proba.argsort(axis = 1)[:,-3:][:,::-1][0][0]\n",
    "    \n",
    "#     # make new sequence\n",
    "#     new_sequence = [test_sequence_temp.tolist()[0][1:], [preds_test_1]]\n",
    "#     new_sequence = [j for i in new_sequence for j in i]\n",
    "#     new_sequence = np.expand_dims(np.array(new_sequence),0)\n",
    "    \n",
    "#     second_pred_proba = model.predict(new_sequence)\n",
    "#     preds_test_2 = second_pred_proba.argsort(axis = 1)[:,-3:][:,::-1][0][0]\n",
    "    \n",
    "#     new_sequence = [test_sequence_temp.tolist()[0][2:], [preds_test_1, preds_test_2]]\n",
    "#     new_sequence = [j for i in new_sequence for j in i]\n",
    "#     new_sequence = np.expand_dims(np.array(new_sequence),0)\n",
    "    \n",
    "#     third_pred_proba = model.predict(new_sequence)\n",
    "#     preds_test_3 = third_pred_proba.argsort(axis = 1)[:,-3:][:,::-1][0][0]\n",
    "    \n",
    "    \n",
    "#     preds_user.append([preds_test_1, preds_test_2, preds_test_3])\n",
    "    \n",
    "# #     dict1 = {\"\"}\n",
    "    \n",
    "#     preds.append(preds_user[0])"
   ]
  },
  {
   "cell_type": "code",
   "execution_count": null,
   "metadata": {
    "colab": {},
    "colab_type": "code",
    "id": "XGKEsyh0hBEV"
   },
   "outputs": [],
   "source": [
    "# np.array(preds)"
   ]
  },
  {
   "cell_type": "code",
   "execution_count": 251,
   "metadata": {
    "colab": {},
    "colab_type": "code",
    "id": "psNw6yNxhBEV"
   },
   "outputs": [],
   "source": [
    "pred_proba_test = model.predict(np.array(use_sequence_test))"
   ]
  },
  {
   "cell_type": "code",
   "execution_count": 252,
   "metadata": {
    "colab": {},
    "colab_type": "code",
    "id": "xAZryA4phBEW"
   },
   "outputs": [],
   "source": [
    "preds_test = pred_proba_test.argsort(axis = 1)[:,-3:][:,::-1]"
   ]
  },
  {
   "cell_type": "code",
   "execution_count": null,
   "metadata": {
    "colab": {},
    "colab_type": "code",
    "id": "mlAuKSllhBEY"
   },
   "outputs": [],
   "source": [
    "preds_test.shape"
   ]
  },
  {
   "cell_type": "code",
   "execution_count": null,
   "metadata": {
    "colab": {},
    "colab_type": "code",
    "id": "3MJHyoknhBEZ"
   },
   "outputs": [],
   "source": [
    "# preds_test = np.array(preds)"
   ]
  },
  {
   "cell_type": "code",
   "execution_count": 253,
   "metadata": {
    "colab": {},
    "colab_type": "code",
    "id": "Q3BYnblZhBEb"
   },
   "outputs": [],
   "source": [
    "preds_names = [le.inverse_transform(i.tolist()).tolist() for i in preds_test]"
   ]
  },
  {
   "cell_type": "code",
   "execution_count": null,
   "metadata": {
    "colab": {},
    "colab_type": "code",
    "id": "jNawNKH8hBEc"
   },
   "outputs": [],
   "source": [
    "preds_names"
   ]
  },
  {
   "cell_type": "code",
   "execution_count": null,
   "metadata": {
    "colab": {},
    "colab_type": "code",
    "id": "Tl5iVF5AhBEe"
   },
   "outputs": [],
   "source": [
    "preds_names"
   ]
  },
  {
   "cell_type": "code",
   "execution_count": 254,
   "metadata": {
    "colab": {},
    "colab_type": "code",
    "id": "4880htvMhBEf"
   },
   "outputs": [],
   "source": [
    "preds_names_flat = [j for i in preds_names for j in i]"
   ]
  },
  {
   "cell_type": "code",
   "execution_count": null,
   "metadata": {
    "colab": {},
    "colab_type": "code",
    "id": "zSIJrq64hBEg"
   },
   "outputs": [],
   "source": [
    "preds_names_flat"
   ]
  },
  {
   "cell_type": "code",
   "execution_count": 255,
   "metadata": {
    "colab": {},
    "colab_type": "code",
    "id": "8sImInpchBEh"
   },
   "outputs": [],
   "source": [
    "names1_catch = []\n",
    "for i in test_sequence.user_id: \n",
    "    names1 = [str(i)+ \"_\"+ str(11 + j) for j in range(3)]\n",
    "    names1_catch.extend(names1)"
   ]
  },
  {
   "cell_type": "code",
   "execution_count": null,
   "metadata": {
    "colab": {},
    "colab_type": "code",
    "id": "uIFqMc41hBEi"
   },
   "outputs": [],
   "source": [
    "names1_catch\n"
   ]
  },
  {
   "cell_type": "code",
   "execution_count": 256,
   "metadata": {
    "colab": {},
    "colab_type": "code",
    "id": "AQFuIlIGhBEj"
   },
   "outputs": [],
   "source": [
    "preds_own = pd.DataFrame({\"user_sequence\": names1_catch, \"challenge\": preds_names_flat})"
   ]
  },
  {
   "cell_type": "code",
   "execution_count": 258,
   "metadata": {
    "colab": {},
    "colab_type": "code",
    "id": "O4L_Xny2hBEj"
   },
   "outputs": [],
   "source": [
    "preds_own.to_csv(\"/content/gdrive/My Drive/best_so_far_gayara_1695.csv\", index = False)"
   ]
  }
 ],
 "metadata": {
  "accelerator": "GPU",
  "colab": {
   "name": "AV_Rec_Sys-.28899-Copy2.ipynb",
   "provenance": []
  },
  "kernelspec": {
   "display_name": "Python 3",
   "language": "python",
   "name": "python3"
  },
  "language_info": {
   "codemirror_mode": {
    "name": "ipython",
    "version": 3
   },
   "file_extension": ".py",
   "mimetype": "text/x-python",
   "name": "python",
   "nbconvert_exporter": "python",
   "pygments_lexer": "ipython3",
   "version": "3.8.2"
  },
  "widgets": {
   "application/vnd.jupyter.widget-state+json": {
    "0a6aa659133c424ca5ae27b00bccb250": {
     "model_module": "@jupyter-widgets/base",
     "model_name": "LayoutModel",
     "state": {
      "_model_module": "@jupyter-widgets/base",
      "_model_module_version": "1.2.0",
      "_model_name": "LayoutModel",
      "_view_count": null,
      "_view_module": "@jupyter-widgets/base",
      "_view_module_version": "1.2.0",
      "_view_name": "LayoutView",
      "align_content": null,
      "align_items": null,
      "align_self": null,
      "border": null,
      "bottom": null,
      "display": null,
      "flex": null,
      "flex_flow": null,
      "grid_area": null,
      "grid_auto_columns": null,
      "grid_auto_flow": null,
      "grid_auto_rows": null,
      "grid_column": null,
      "grid_gap": null,
      "grid_row": null,
      "grid_template_areas": null,
      "grid_template_columns": null,
      "grid_template_rows": null,
      "height": null,
      "justify_content": null,
      "justify_items": null,
      "left": null,
      "margin": null,
      "max_height": null,
      "max_width": null,
      "min_height": null,
      "min_width": null,
      "object_fit": null,
      "object_position": null,
      "order": null,
      "overflow": null,
      "overflow_x": null,
      "overflow_y": null,
      "padding": null,
      "right": null,
      "top": null,
      "visibility": null,
      "width": null
     }
    },
    "20606b44956b44289b6571a8dd4bb7b9": {
     "model_module": "@jupyter-widgets/controls",
     "model_name": "FloatProgressModel",
     "state": {
      "_dom_classes": [],
      "_model_module": "@jupyter-widgets/controls",
      "_model_module_version": "1.5.0",
      "_model_name": "FloatProgressModel",
      "_view_count": null,
      "_view_module": "@jupyter-widgets/controls",
      "_view_module_version": "1.5.0",
      "_view_name": "ProgressView",
      "bar_style": "success",
      "description": "100%",
      "description_tooltip": null,
      "layout": "IPY_MODEL_4fc4cbed287e4a60938fa165ed03ede7",
      "max": 39732,
      "min": 0,
      "orientation": "horizontal",
      "style": "IPY_MODEL_ef8117d009ef41d59950bbb02c47efea",
      "value": 39732
     }
    },
    "25d71c00c20f4d72b5ba086eb356ff05": {
     "model_module": "@jupyter-widgets/controls",
     "model_name": "HTMLModel",
     "state": {
      "_dom_classes": [],
      "_model_module": "@jupyter-widgets/controls",
      "_model_module_version": "1.5.0",
      "_model_name": "HTMLModel",
      "_view_count": null,
      "_view_module": "@jupyter-widgets/controls",
      "_view_module_version": "1.5.0",
      "_view_name": "HTMLView",
      "description": "",
      "description_tooltip": null,
      "layout": "IPY_MODEL_0a6aa659133c424ca5ae27b00bccb250",
      "placeholder": "​",
      "style": "IPY_MODEL_f288dcc2ff744946a4b3df5e571582f1",
      "value": " 39732/39732 [00:54&lt;00:00, 726.92it/s]"
     }
    },
    "40978fa736f4499e9a859492ddadbbce": {
     "model_module": "@jupyter-widgets/base",
     "model_name": "LayoutModel",
     "state": {
      "_model_module": "@jupyter-widgets/base",
      "_model_module_version": "1.2.0",
      "_model_name": "LayoutModel",
      "_view_count": null,
      "_view_module": "@jupyter-widgets/base",
      "_view_module_version": "1.2.0",
      "_view_name": "LayoutView",
      "align_content": null,
      "align_items": null,
      "align_self": null,
      "border": null,
      "bottom": null,
      "display": null,
      "flex": null,
      "flex_flow": null,
      "grid_area": null,
      "grid_auto_columns": null,
      "grid_auto_flow": null,
      "grid_auto_rows": null,
      "grid_column": null,
      "grid_gap": null,
      "grid_row": null,
      "grid_template_areas": null,
      "grid_template_columns": null,
      "grid_template_rows": null,
      "height": null,
      "justify_content": null,
      "justify_items": null,
      "left": null,
      "margin": null,
      "max_height": null,
      "max_width": null,
      "min_height": null,
      "min_width": null,
      "object_fit": null,
      "object_position": null,
      "order": null,
      "overflow": null,
      "overflow_x": null,
      "overflow_y": null,
      "padding": null,
      "right": null,
      "top": null,
      "visibility": null,
      "width": null
     }
    },
    "45bdce5b29b341909427028159e6c60a": {
     "model_module": "@jupyter-widgets/controls",
     "model_name": "HBoxModel",
     "state": {
      "_dom_classes": [],
      "_model_module": "@jupyter-widgets/controls",
      "_model_module_version": "1.5.0",
      "_model_name": "HBoxModel",
      "_view_count": null,
      "_view_module": "@jupyter-widgets/controls",
      "_view_module_version": "1.5.0",
      "_view_name": "HBoxView",
      "box_style": "",
      "children": [
       "IPY_MODEL_20606b44956b44289b6571a8dd4bb7b9",
       "IPY_MODEL_25d71c00c20f4d72b5ba086eb356ff05"
      ],
      "layout": "IPY_MODEL_72884f68e0f4435294541b5fb8e7ff98"
     }
    },
    "4b71ad5875cb45e48587d02ceb09108a": {
     "model_module": "@jupyter-widgets/controls",
     "model_name": "HTMLModel",
     "state": {
      "_dom_classes": [],
      "_model_module": "@jupyter-widgets/controls",
      "_model_module_version": "1.5.0",
      "_model_name": "HTMLModel",
      "_view_count": null,
      "_view_module": "@jupyter-widgets/controls",
      "_view_module_version": "1.5.0",
      "_view_name": "HTMLView",
      "description": "",
      "description_tooltip": null,
      "layout": "IPY_MODEL_87b75762b0374df4990d2e920188ad12",
      "placeholder": "​",
      "style": "IPY_MODEL_640bfffa025d44febca89f4d7c077729",
      "value": " 69532/69532 [02:02&lt;00:00, 569.85it/s]"
     }
    },
    "4fc4cbed287e4a60938fa165ed03ede7": {
     "model_module": "@jupyter-widgets/base",
     "model_name": "LayoutModel",
     "state": {
      "_model_module": "@jupyter-widgets/base",
      "_model_module_version": "1.2.0",
      "_model_name": "LayoutModel",
      "_view_count": null,
      "_view_module": "@jupyter-widgets/base",
      "_view_module_version": "1.2.0",
      "_view_name": "LayoutView",
      "align_content": null,
      "align_items": null,
      "align_self": null,
      "border": null,
      "bottom": null,
      "display": null,
      "flex": null,
      "flex_flow": null,
      "grid_area": null,
      "grid_auto_columns": null,
      "grid_auto_flow": null,
      "grid_auto_rows": null,
      "grid_column": null,
      "grid_gap": null,
      "grid_row": null,
      "grid_template_areas": null,
      "grid_template_columns": null,
      "grid_template_rows": null,
      "height": null,
      "justify_content": null,
      "justify_items": null,
      "left": null,
      "margin": null,
      "max_height": null,
      "max_width": null,
      "min_height": null,
      "min_width": null,
      "object_fit": null,
      "object_position": null,
      "order": null,
      "overflow": null,
      "overflow_x": null,
      "overflow_y": null,
      "padding": null,
      "right": null,
      "top": null,
      "visibility": null,
      "width": null
     }
    },
    "60dd37fbb4504af28d49e790b9af07ff": {
     "model_module": "@jupyter-widgets/controls",
     "model_name": "HBoxModel",
     "state": {
      "_dom_classes": [],
      "_model_module": "@jupyter-widgets/controls",
      "_model_module_version": "1.5.0",
      "_model_name": "HBoxModel",
      "_view_count": null,
      "_view_module": "@jupyter-widgets/controls",
      "_view_module_version": "1.5.0",
      "_view_name": "HBoxView",
      "box_style": "",
      "children": [
       "IPY_MODEL_ce5b8c2a44a044539940e3c3cf947983",
       "IPY_MODEL_4b71ad5875cb45e48587d02ceb09108a"
      ],
      "layout": "IPY_MODEL_ea5c974a2ad4444ea4c00d4b50ed2508"
     }
    },
    "640bfffa025d44febca89f4d7c077729": {
     "model_module": "@jupyter-widgets/controls",
     "model_name": "DescriptionStyleModel",
     "state": {
      "_model_module": "@jupyter-widgets/controls",
      "_model_module_version": "1.5.0",
      "_model_name": "DescriptionStyleModel",
      "_view_count": null,
      "_view_module": "@jupyter-widgets/base",
      "_view_module_version": "1.2.0",
      "_view_name": "StyleView",
      "description_width": ""
     }
    },
    "72884f68e0f4435294541b5fb8e7ff98": {
     "model_module": "@jupyter-widgets/base",
     "model_name": "LayoutModel",
     "state": {
      "_model_module": "@jupyter-widgets/base",
      "_model_module_version": "1.2.0",
      "_model_name": "LayoutModel",
      "_view_count": null,
      "_view_module": "@jupyter-widgets/base",
      "_view_module_version": "1.2.0",
      "_view_name": "LayoutView",
      "align_content": null,
      "align_items": null,
      "align_self": null,
      "border": null,
      "bottom": null,
      "display": null,
      "flex": null,
      "flex_flow": null,
      "grid_area": null,
      "grid_auto_columns": null,
      "grid_auto_flow": null,
      "grid_auto_rows": null,
      "grid_column": null,
      "grid_gap": null,
      "grid_row": null,
      "grid_template_areas": null,
      "grid_template_columns": null,
      "grid_template_rows": null,
      "height": null,
      "justify_content": null,
      "justify_items": null,
      "left": null,
      "margin": null,
      "max_height": null,
      "max_width": null,
      "min_height": null,
      "min_width": null,
      "object_fit": null,
      "object_position": null,
      "order": null,
      "overflow": null,
      "overflow_x": null,
      "overflow_y": null,
      "padding": null,
      "right": null,
      "top": null,
      "visibility": null,
      "width": null
     }
    },
    "87b75762b0374df4990d2e920188ad12": {
     "model_module": "@jupyter-widgets/base",
     "model_name": "LayoutModel",
     "state": {
      "_model_module": "@jupyter-widgets/base",
      "_model_module_version": "1.2.0",
      "_model_name": "LayoutModel",
      "_view_count": null,
      "_view_module": "@jupyter-widgets/base",
      "_view_module_version": "1.2.0",
      "_view_name": "LayoutView",
      "align_content": null,
      "align_items": null,
      "align_self": null,
      "border": null,
      "bottom": null,
      "display": null,
      "flex": null,
      "flex_flow": null,
      "grid_area": null,
      "grid_auto_columns": null,
      "grid_auto_flow": null,
      "grid_auto_rows": null,
      "grid_column": null,
      "grid_gap": null,
      "grid_row": null,
      "grid_template_areas": null,
      "grid_template_columns": null,
      "grid_template_rows": null,
      "height": null,
      "justify_content": null,
      "justify_items": null,
      "left": null,
      "margin": null,
      "max_height": null,
      "max_width": null,
      "min_height": null,
      "min_width": null,
      "object_fit": null,
      "object_position": null,
      "order": null,
      "overflow": null,
      "overflow_x": null,
      "overflow_y": null,
      "padding": null,
      "right": null,
      "top": null,
      "visibility": null,
      "width": null
     }
    },
    "cb7d577df9a040c091a54dbd8b659f3a": {
     "model_module": "@jupyter-widgets/controls",
     "model_name": "ProgressStyleModel",
     "state": {
      "_model_module": "@jupyter-widgets/controls",
      "_model_module_version": "1.5.0",
      "_model_name": "ProgressStyleModel",
      "_view_count": null,
      "_view_module": "@jupyter-widgets/base",
      "_view_module_version": "1.2.0",
      "_view_name": "StyleView",
      "bar_color": null,
      "description_width": "initial"
     }
    },
    "ce5b8c2a44a044539940e3c3cf947983": {
     "model_module": "@jupyter-widgets/controls",
     "model_name": "FloatProgressModel",
     "state": {
      "_dom_classes": [],
      "_model_module": "@jupyter-widgets/controls",
      "_model_module_version": "1.5.0",
      "_model_name": "FloatProgressModel",
      "_view_count": null,
      "_view_module": "@jupyter-widgets/controls",
      "_view_module_version": "1.5.0",
      "_view_name": "ProgressView",
      "bar_style": "success",
      "description": "100%",
      "description_tooltip": null,
      "layout": "IPY_MODEL_40978fa736f4499e9a859492ddadbbce",
      "max": 69532,
      "min": 0,
      "orientation": "horizontal",
      "style": "IPY_MODEL_cb7d577df9a040c091a54dbd8b659f3a",
      "value": 69532
     }
    },
    "ea5c974a2ad4444ea4c00d4b50ed2508": {
     "model_module": "@jupyter-widgets/base",
     "model_name": "LayoutModel",
     "state": {
      "_model_module": "@jupyter-widgets/base",
      "_model_module_version": "1.2.0",
      "_model_name": "LayoutModel",
      "_view_count": null,
      "_view_module": "@jupyter-widgets/base",
      "_view_module_version": "1.2.0",
      "_view_name": "LayoutView",
      "align_content": null,
      "align_items": null,
      "align_self": null,
      "border": null,
      "bottom": null,
      "display": null,
      "flex": null,
      "flex_flow": null,
      "grid_area": null,
      "grid_auto_columns": null,
      "grid_auto_flow": null,
      "grid_auto_rows": null,
      "grid_column": null,
      "grid_gap": null,
      "grid_row": null,
      "grid_template_areas": null,
      "grid_template_columns": null,
      "grid_template_rows": null,
      "height": null,
      "justify_content": null,
      "justify_items": null,
      "left": null,
      "margin": null,
      "max_height": null,
      "max_width": null,
      "min_height": null,
      "min_width": null,
      "object_fit": null,
      "object_position": null,
      "order": null,
      "overflow": null,
      "overflow_x": null,
      "overflow_y": null,
      "padding": null,
      "right": null,
      "top": null,
      "visibility": null,
      "width": null
     }
    },
    "ef8117d009ef41d59950bbb02c47efea": {
     "model_module": "@jupyter-widgets/controls",
     "model_name": "ProgressStyleModel",
     "state": {
      "_model_module": "@jupyter-widgets/controls",
      "_model_module_version": "1.5.0",
      "_model_name": "ProgressStyleModel",
      "_view_count": null,
      "_view_module": "@jupyter-widgets/base",
      "_view_module_version": "1.2.0",
      "_view_name": "StyleView",
      "bar_color": null,
      "description_width": "initial"
     }
    },
    "f288dcc2ff744946a4b3df5e571582f1": {
     "model_module": "@jupyter-widgets/controls",
     "model_name": "DescriptionStyleModel",
     "state": {
      "_model_module": "@jupyter-widgets/controls",
      "_model_module_version": "1.5.0",
      "_model_name": "DescriptionStyleModel",
      "_view_count": null,
      "_view_module": "@jupyter-widgets/base",
      "_view_module_version": "1.2.0",
      "_view_name": "StyleView",
      "description_width": ""
     }
    }
   }
  }
 },
 "nbformat": 4,
 "nbformat_minor": 4
}
